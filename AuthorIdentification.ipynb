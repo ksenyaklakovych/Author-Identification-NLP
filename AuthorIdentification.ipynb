{
 "cells": [
  {
   "cell_type": "code",
   "execution_count": 48,
   "metadata": {},
   "outputs": [],
   "source": [
    "import pandas as pd\n",
    "import string\n",
    "from nltk.corpus import stopwords\n",
    "from nltk.stem import WordNetLemmatizer\n",
    "from sklearn.preprocessing import LabelEncoder\n",
    "from PIL import Image\n",
    "from wordcloud import WordCloud\n",
    "import matplotlib.pyplot as plt\n",
    "from sklearn.model_selection import train_test_split\n",
    "from sklearn.naive_bayes import MultinomialNB \n",
    "from sklearn.metrics import classification_report\n",
    "from sklearn.metrics import confusion_matrix\n",
    "import numpy as np\n",
    "from sklearn.feature_extraction.text import TfidfVectorizer\n",
    "import itertools\n",
    "from sklearn import svm\n",
    "from matplotlib.colors import ListedColormap\n",
    "\n",
    "from IPython.core.display import display, HTML\n",
    "lemmatiser = WordNetLemmatizer()"
   ]
  },
  {
   "cell_type": "code",
   "execution_count": 64,
   "metadata": {},
   "outputs": [],
   "source": [
    "data_table=pd.read_csv('author_text.csv')\n",
    "from sklearn.utils import shuffle\n",
    "data_table = shuffle(data_table)\n",
    "\n",
    "def text_process(tex):\n",
    "    # 1. Removal of Punctuation Marks \n",
    "    nopunct=[char for char in tex if char not in string.punctuation] #!\"#$%&\\'()*+,-./:;<=>?@[\\\\]^_`{|}~\n",
    "    nopunct=''.join(nopunct)\n",
    "    # 2. Lemmatisation \n",
    "    a=''\n",
    "    i=0\n",
    "    for i in range(len(nopunct.split())):\n",
    "        b=lemmatiser.lemmatize(nopunct.split()[i], pos=\"v\")\n",
    "        a+=b+' '\n",
    "    # 3. Removal of Stopwords\n",
    "    return a\n",
    "#     return [word for word in a.split() if word.lower() not \n",
    "#             in stopwords.words('english')]\n",
    "\n",
    "y = data_table['Author']\n",
    "labelencoder = LabelEncoder()\n",
    "y = labelencoder.fit_transform(y) #[1, 0, 1, ..., 0, 1, 1] each text - numbber 0,1 - depending on author"
   ]
  },
  {
   "cell_type": "code",
   "execution_count": 65,
   "metadata": {},
   "outputs": [
    {
     "data": {
      "text/plain": [
       "array([1, 0, 1, ..., 0, 0, 1])"
      ]
     },
     "execution_count": 65,
     "metadata": {},
     "output_type": "execute_result"
    }
   ],
   "source": [
    "y"
   ]
  },
  {
   "cell_type": "code",
   "execution_count": 66,
   "metadata": {},
   "outputs": [
    {
     "data": {
      "text/html": [
       "<div>\n",
       "<style scoped>\n",
       "    .dataframe tbody tr th:only-of-type {\n",
       "        vertical-align: middle;\n",
       "    }\n",
       "\n",
       "    .dataframe tbody tr th {\n",
       "        vertical-align: top;\n",
       "    }\n",
       "\n",
       "    .dataframe thead th {\n",
       "        text-align: right;\n",
       "    }\n",
       "</style>\n",
       "<table border=\"1\" class=\"dataframe\">\n",
       "  <thead>\n",
       "    <tr style=\"text-align: right;\">\n",
       "      <th></th>\n",
       "      <th>Unnamed: 0</th>\n",
       "      <th>Text</th>\n",
       "      <th>Author</th>\n",
       "    </tr>\n",
       "  </thead>\n",
       "  <tbody>\n",
       "    <tr>\n",
       "      <th>2898</th>\n",
       "      <td>4145</td>\n",
       "      <td>this time my name. “Katniss! Katniss!”</td>\n",
       "      <td>SC</td>\n",
       "    </tr>\n",
       "    <tr>\n",
       "      <th>6828</th>\n",
       "      <td>3590</td>\n",
       "      <td>out to be a very interesting read.</td>\n",
       "      <td>JR</td>\n",
       "    </tr>\n",
       "    <tr>\n",
       "      <th>915</th>\n",
       "      <td>259</td>\n",
       "      <td>areas marked off by ages, the oldest in the fr...</td>\n",
       "      <td>SC</td>\n",
       "    </tr>\n",
       "    <tr>\n",
       "      <th>12897</th>\n",
       "      <td>660</td>\n",
       "      <td>Surrey</td>\n",
       "      <td>JR</td>\n",
       "    </tr>\n",
       "    <tr>\n",
       "      <th>2351</th>\n",
       "      <td>2364</td>\n",
       "      <td>The table on the right cheered and clapped as ...</td>\n",
       "      <td>JR</td>\n",
       "    </tr>\n",
       "    <tr>\n",
       "      <th>6377</th>\n",
       "      <td>3664</td>\n",
       "      <td>difficult to see what was going on sometimes.</td>\n",
       "      <td>JR</td>\n",
       "    </tr>\n",
       "    <tr>\n",
       "      <th>8966</th>\n",
       "      <td>1942</td>\n",
       "      <td>what does that mean for the other? I escape to...</td>\n",
       "      <td>SC</td>\n",
       "    </tr>\n",
       "    <tr>\n",
       "      <th>12737</th>\n",
       "      <td>4386</td>\n",
       "      <td>it turns out, has never been a danger to me.</td>\n",
       "      <td>SC</td>\n",
       "    </tr>\n",
       "    <tr>\n",
       "      <th>6640</th>\n",
       "      <td>1743</td>\n",
       "      <td>his bed reading late into the night, Hedwig sw...</td>\n",
       "      <td>JR</td>\n",
       "    </tr>\n",
       "    <tr>\n",
       "      <th>8844</th>\n",
       "      <td>6697</td>\n",
       "      <td>leads to a family, to children. And how can he...</td>\n",
       "      <td>SC</td>\n",
       "    </tr>\n",
       "    <tr>\n",
       "      <th>5459</th>\n",
       "      <td>5748</td>\n",
       "      <td>“Harry—you’re a great wizard, you know.”</td>\n",
       "      <td>JR</td>\n",
       "    </tr>\n",
       "    <tr>\n",
       "      <th>2843</th>\n",
       "      <td>5277</td>\n",
       "      <td>England before Hagrid lets Dumbledore down.”</td>\n",
       "      <td>JR</td>\n",
       "    </tr>\n",
       "    <tr>\n",
       "      <th>12499</th>\n",
       "      <td>5572</td>\n",
       "      <td>“Lucky you pay attention in Herbology, Hermion...</td>\n",
       "      <td>JR</td>\n",
       "    </tr>\n",
       "    <tr>\n",
       "      <th>1602</th>\n",
       "      <td>1220</td>\n",
       "      <td>money into a small leather pouch tied to it. T...</td>\n",
       "      <td>JR</td>\n",
       "    </tr>\n",
       "    <tr>\n",
       "      <th>666</th>\n",
       "      <td>2782</td>\n",
       "      <td>eleven dead tributes begin and tick them off o...</td>\n",
       "      <td>SC</td>\n",
       "    </tr>\n",
       "    <tr>\n",
       "      <th>10348</th>\n",
       "      <td>1584</td>\n",
       "      <td>stacked to the ceiling with books as large as ...</td>\n",
       "      <td>JR</td>\n",
       "    </tr>\n",
       "    <tr>\n",
       "      <th>9034</th>\n",
       "      <td>963</td>\n",
       "      <td>of money on the counter of the woman who sells...</td>\n",
       "      <td>SC</td>\n",
       "    </tr>\n",
       "    <tr>\n",
       "      <th>7574</th>\n",
       "      <td>1853</td>\n",
       "      <td>me, they can do it publicly. Wait until I’m in...</td>\n",
       "      <td>SC</td>\n",
       "    </tr>\n",
       "    <tr>\n",
       "      <th>9148</th>\n",
       "      <td>5149</td>\n",
       "      <td>he’ll have to go back and face a district that...</td>\n",
       "      <td>SC</td>\n",
       "    </tr>\n",
       "    <tr>\n",
       "      <th>2377</th>\n",
       "      <td>1285</td>\n",
       "      <td>sour milk. The walls of this elevator are made...</td>\n",
       "      <td>SC</td>\n",
       "    </tr>\n",
       "  </tbody>\n",
       "</table>\n",
       "</div>"
      ],
      "text/plain": [
       "       Unnamed: 0                                               Text Author\n",
       "2898         4145             this time my name. “Katniss! Katniss!”     SC\n",
       "6828         3590                 out to be a very interesting read.     JR\n",
       "915           259  areas marked off by ages, the oldest in the fr...     SC\n",
       "12897         660                                             Surrey     JR\n",
       "2351         2364  The table on the right cheered and clapped as ...     JR\n",
       "6377         3664      difficult to see what was going on sometimes.     JR\n",
       "8966         1942  what does that mean for the other? I escape to...     SC\n",
       "12737        4386       it turns out, has never been a danger to me.     SC\n",
       "6640         1743  his bed reading late into the night, Hedwig sw...     JR\n",
       "8844         6697  leads to a family, to children. And how can he...     SC\n",
       "5459         5748           “Harry—you’re a great wizard, you know.”     JR\n",
       "2843         5277       England before Hagrid lets Dumbledore down.”     JR\n",
       "12499        5572  “Lucky you pay attention in Herbology, Hermion...     JR\n",
       "1602         1220  money into a small leather pouch tied to it. T...     JR\n",
       "666          2782  eleven dead tributes begin and tick them off o...     SC\n",
       "10348        1584  stacked to the ceiling with books as large as ...     JR\n",
       "9034          963  of money on the counter of the woman who sells...     SC\n",
       "7574         1853  me, they can do it publicly. Wait until I’m in...     SC\n",
       "9148         5149  he’ll have to go back and face a district that...     SC\n",
       "2377         1285  sour milk. The walls of this elevator are made...     SC"
      ]
     },
     "execution_count": 66,
     "metadata": {},
     "output_type": "execute_result"
    }
   ],
   "source": [
    "data_table[:20]"
   ]
  },
  {
   "cell_type": "code",
   "execution_count": 67,
   "metadata": {},
   "outputs": [
    {
     "name": "stdout",
     "output_type": "stream",
     "text": [
      "For a moment, everything seems frozen in time. Then the apples spill to the ground and I’m\n",
      "SC\n"
     ]
    },
    {
     "data": {
      "image/png": "[encoded data removed]",
      "text/plain": [
       "<Figure size 432x288 with 1 Axes>"
      ]
     },
     "metadata": {
      "needs_background": "light"
     },
     "output_type": "display_data"
    },
    {
     "name": "stdout",
     "output_type": "stream",
     "text": [
      "his eyes fixed on the door. Any second now, Professor McGonagall would come back and lead\n",
      "JR\n"
     ]
    },
    {
     "data": {
      "image/png": "[encoded data removed]",
      "text/plain": [
       "<Figure size 432x288 with 1 Axes>"
      ]
     },
     "metadata": {
      "needs_background": "light"
     },
     "output_type": "display_data"
    }
   ],
   "source": [
    "X = data_table['Text'] #всі частинки тексту\n",
    "\n",
    "wordcloud2 = WordCloud().generate(X[1]) # for JR\n",
    "wordcloud1 = WordCloud().generate(X[2]) # for SC\n",
    "\n",
    "print(X[2])\n",
    "print(data_table['Author'][2]) #author name\n",
    "plt.imshow(wordcloud1, interpolation='bilinear') #показати картинкою\n",
    "plt.show()\n",
    "\n",
    "print(X[1])\n",
    "print(data_table['Author'][1])\n",
    "plt.imshow(wordcloud2, interpolation='bilinear')\n",
    "plt.show()"
   ]
  },
  {
   "cell_type": "code",
   "execution_count": 68,
   "metadata": {},
   "outputs": [
    {
     "data": {
      "text/html": [
       "<div>\n",
       "<style scoped>\n",
       "    .dataframe tbody tr th:only-of-type {\n",
       "        vertical-align: middle;\n",
       "    }\n",
       "\n",
       "    .dataframe tbody tr th {\n",
       "        vertical-align: top;\n",
       "    }\n",
       "\n",
       "    .dataframe thead th {\n",
       "        text-align: right;\n",
       "    }\n",
       "</style>\n",
       "<table border=\"1\" class=\"dataframe\">\n",
       "  <thead>\n",
       "    <tr style=\"text-align: right;\">\n",
       "      <th></th>\n",
       "      <th>Text</th>\n",
       "    </tr>\n",
       "  </thead>\n",
       "  <tbody>\n",
       "    <tr>\n",
       "      <th>2898</th>\n",
       "      <td>this time my name. “Katniss! Katniss!”</td>\n",
       "    </tr>\n",
       "    <tr>\n",
       "      <th>6828</th>\n",
       "      <td>out to be a very interesting read.</td>\n",
       "    </tr>\n",
       "    <tr>\n",
       "      <th>915</th>\n",
       "      <td>areas marked off by ages, the oldest in the fr...</td>\n",
       "    </tr>\n",
       "    <tr>\n",
       "      <th>12897</th>\n",
       "      <td>Surrey</td>\n",
       "    </tr>\n",
       "    <tr>\n",
       "      <th>2351</th>\n",
       "      <td>The table on the right cheered and clapped as ...</td>\n",
       "    </tr>\n",
       "    <tr>\n",
       "      <th>...</th>\n",
       "      <td>...</td>\n",
       "    </tr>\n",
       "    <tr>\n",
       "      <th>719</th>\n",
       "      <td>whatever medicines they found in the Cornucopi...</td>\n",
       "    </tr>\n",
       "    <tr>\n",
       "      <th>9106</th>\n",
       "      <td>desirable district.</td>\n",
       "    </tr>\n",
       "    <tr>\n",
       "      <th>2478</th>\n",
       "      <td>me there might be trouble gettin’ hold of yeh,...</td>\n",
       "    </tr>\n",
       "    <tr>\n",
       "      <th>11501</th>\n",
       "      <td>“Yeh don’ know what yeh are?”he said finally.</td>\n",
       "    </tr>\n",
       "    <tr>\n",
       "      <th>2089</th>\n",
       "      <td>parting we exchange can wait until tomorrow. M...</td>\n",
       "    </tr>\n",
       "  </tbody>\n",
       "</table>\n",
       "<p>12926 rows × 1 columns</p>\n",
       "</div>"
      ],
      "text/plain": [
       "                                                    Text\n",
       "2898              this time my name. “Katniss! Katniss!”\n",
       "6828                  out to be a very interesting read.\n",
       "915    areas marked off by ages, the oldest in the fr...\n",
       "12897                                             Surrey\n",
       "2351   The table on the right cheered and clapped as ...\n",
       "...                                                  ...\n",
       "719    whatever medicines they found in the Cornucopi...\n",
       "9106                                 desirable district.\n",
       "2478   me there might be trouble gettin’ hold of yeh,...\n",
       "11501      “Yeh don’ know what yeh are?”he said finally.\n",
       "2089   parting we exchange can wait until tomorrow. M...\n",
       "\n",
       "[12926 rows x 1 columns]"
      ]
     },
     "execution_count": 68,
     "metadata": {},
     "output_type": "execute_result"
    }
   ],
   "source": [
    "X.to_frame()"
   ]
  },
  {
   "cell_type": "code",
   "execution_count": 69,
   "metadata": {},
   "outputs": [],
   "source": [
    "X= X.apply(text_process)"
   ]
  },
  {
   "cell_type": "code",
   "execution_count": 70,
   "metadata": {},
   "outputs": [
    {
     "data": {
      "text/html": [
       "<div>\n",
       "<style scoped>\n",
       "    .dataframe tbody tr th:only-of-type {\n",
       "        vertical-align: middle;\n",
       "    }\n",
       "\n",
       "    .dataframe tbody tr th {\n",
       "        vertical-align: top;\n",
       "    }\n",
       "\n",
       "    .dataframe thead th {\n",
       "        text-align: right;\n",
       "    }\n",
       "</style>\n",
       "<table border=\"1\" class=\"dataframe\">\n",
       "  <thead>\n",
       "    <tr style=\"text-align: right;\">\n",
       "      <th></th>\n",
       "      <th>Text</th>\n",
       "    </tr>\n",
       "  </thead>\n",
       "  <tbody>\n",
       "    <tr>\n",
       "      <th>2898</th>\n",
       "      <td>this time my name “Katniss Katniss”</td>\n",
       "    </tr>\n",
       "    <tr>\n",
       "      <th>6828</th>\n",
       "      <td>out to be a very interest read</td>\n",
       "    </tr>\n",
       "    <tr>\n",
       "      <th>915</th>\n",
       "      <td>areas mark off by age the oldest in the front ...</td>\n",
       "    </tr>\n",
       "    <tr>\n",
       "      <th>12897</th>\n",
       "      <td>Surrey</td>\n",
       "    </tr>\n",
       "    <tr>\n",
       "      <th>2351</th>\n",
       "      <td>The table on the right cheer and clap as Hanna...</td>\n",
       "    </tr>\n",
       "    <tr>\n",
       "      <th>...</th>\n",
       "      <td>...</td>\n",
       "    </tr>\n",
       "    <tr>\n",
       "      <th>719</th>\n",
       "      <td>whatever medicine they find in the Cornucopia ...</td>\n",
       "    </tr>\n",
       "    <tr>\n",
       "      <th>9106</th>\n",
       "      <td>desirable district</td>\n",
       "    </tr>\n",
       "    <tr>\n",
       "      <th>2478</th>\n",
       "      <td>me there might be trouble gettin’ hold of yeh ...</td>\n",
       "    </tr>\n",
       "    <tr>\n",
       "      <th>11501</th>\n",
       "      <td>“Yeh don’ know what yeh are”he say finally</td>\n",
       "    </tr>\n",
       "    <tr>\n",
       "      <th>2089</th>\n",
       "      <td>part we exchange can wait until tomorrow My co...</td>\n",
       "    </tr>\n",
       "  </tbody>\n",
       "</table>\n",
       "<p>12926 rows × 1 columns</p>\n",
       "</div>"
      ],
      "text/plain": [
       "                                                    Text\n",
       "2898                this time my name “Katniss Katniss” \n",
       "6828                     out to be a very interest read \n",
       "915    areas mark off by age the oldest in the front ...\n",
       "12897                                            Surrey \n",
       "2351   The table on the right cheer and clap as Hanna...\n",
       "...                                                  ...\n",
       "719    whatever medicine they find in the Cornucopia ...\n",
       "9106                                 desirable district \n",
       "2478   me there might be trouble gettin’ hold of yeh ...\n",
       "11501        “Yeh don’ know what yeh are”he say finally \n",
       "2089   part we exchange can wait until tomorrow My co...\n",
       "\n",
       "[12926 rows x 1 columns]"
      ]
     },
     "execution_count": 70,
     "metadata": {},
     "output_type": "execute_result"
    }
   ],
   "source": [
    "X.to_frame()"
   ]
  },
  {
   "cell_type": "code",
   "execution_count": 71,
   "metadata": {},
   "outputs": [],
   "source": [
    "X_train, X_test, y_train, y_test = train_test_split(X, y\n",
    "                                  ,test_size=0.2, random_state=1234) #(80%->Training and 20%->Validation)\n",
    "\n",
    "vectorizer = TfidfVectorizer(min_df=5,\n",
    "                                 max_df = 0.8,\n",
    "                                 sublinear_tf=True,\n",
    "                                 use_idf=True)\n",
    "\n",
    "train_vectors = vectorizer.fit_transform(X_train)\n",
    "test_vectors = vectorizer.transform(X_test)\n",
    "\n"
   ]
  },
  {
   "cell_type": "code",
   "execution_count": 72,
   "metadata": {},
   "outputs": [
    {
     "name": "stdout",
     "output_type": "stream",
     "text": [
      "0.9936170212765958\n",
      "0.905645784996133\n"
     ]
    }
   ],
   "source": [
    "#svm classification\n",
    "classifier_rbf = svm.SVC(C=10)\n",
    "classifier_rbf.fit(train_vectors, y_train)\n",
    "\n",
    "score_train1=classifier_rbf.score(train_vectors, y_train)\n",
    "score_test1=classifier_rbf.score(test_vectors, y_test)\n",
    "print(score_train1) #середня точність даних training\n",
    "print(score_test1)#середня точність даних testing"
   ]
  },
  {
   "cell_type": "code",
   "execution_count": 11,
   "metadata": {},
   "outputs": [
    {
     "name": "stdout",
     "output_type": "stream",
     "text": [
      "0.9377176015473888\n",
      "0.8901778808971385\n"
     ]
    }
   ],
   "source": [
    "classifier_linear=svm.SVC(kernel='linear')\n",
    "classifier_linear.fit(train_vectors, y_train)\n",
    "\n",
    "score_train2=classifier_linear.score(train_vectors, y_train)\n",
    "score_test2=classifier_linear.score(test_vectors, y_test)\n",
    "print(score_train2) #середня точність даних training\n",
    "print(score_test2)#середня точність даних testing"
   ]
  },
  {
   "cell_type": "code",
   "execution_count": 12,
   "metadata": {},
   "outputs": [
    {
     "name": "stdout",
     "output_type": "stream",
     "text": [
      "0.955899419729207\n",
      "0.891337973704563\n"
     ]
    }
   ],
   "source": [
    "classifier_liblinear = svm.LinearSVC()\n",
    "classifier_liblinear.fit(train_vectors, y_train)\n",
    "\n",
    "score_train3=classifier_liblinear.score(train_vectors, y_train)\n",
    "score_test3=classifier_liblinear.score(test_vectors, y_test)\n",
    "print(score_train3) #середня точність даних training\n",
    "print(score_test3)#середня точність даних testing"
   ]
  },
  {
   "cell_type": "code",
   "execution_count": 23,
   "metadata": {},
   "outputs": [
    {
     "data": {
      "image/png": "[encoded data removed]",
      "text/plain": [
       "<Figure size 432x288 with 1 Axes>"
      ]
     },
     "metadata": {
      "needs_background": "light"
     },
     "output_type": "display_data"
    }
   ],
   "source": [
    "import numpy as np\n",
    "import matplotlib.pyplot as plt\n",
    " \n",
    "barWidth = 0.25\n",
    " \n",
    "bars1 = [score_train1,score_train2,score_train3]\n",
    "bars2 = [score_test1,score_test2,score_test3]\n",
    "\n",
    "r1 = np.arange(len(bars1))\n",
    "r2 = [x + barWidth for x in r1]\n",
    " \n",
    "plt.bar(r1, bars1, color='#7f6d5f', width=barWidth, edgecolor='white', label='Training score')\n",
    "plt.bar(r2, bars2, color='#557f2d', width=barWidth, edgecolor='white', label='Testing score')\n",
    " \n",
    "plt.xticks([r + barWidth for r in range(len(bars1))], ['SVM, kernel=rbf', 'SVM, kernel=linear', 'LinearSVM'])\n",
    " \n",
    "plt.legend(loc = 'lower right')\n",
    "\n",
    "rects=[score_train1,score_test1,score_train2,score_test2,score_train3,score_test3]\n",
    "labels = [round(x,3) for x in rects]\n",
    "\n",
    "width=[0,0.25,1,1.25,2,2.25]\n",
    "i=0\n",
    "for rect, label in zip(rects, labels):\n",
    "    height = rect\n",
    "    plt.text(width[i], height + 0.0001, label,\n",
    "            ha='center', va='bottom')\n",
    "    i+=1\n"
   ]
  },
  {
   "cell_type": "code",
   "execution_count": 14,
   "metadata": {},
   "outputs": [
    {
     "name": "stdout",
     "output_type": "stream",
     "text": [
      "Predicted value:  [1]\n"
     ]
    }
   ],
   "source": [
    "#0\n",
    "#a=\"report home to the Dursleys saying that he’d somehow turned his teacher’s wig blue. He kept\"\n",
    "#0\n",
    "# a=\"Samantha sometimes found Miles absurd and, increasingly, dull. Every now and then, though, she enjoyed his pomposity in precisely the same spirit as she liked\"\n",
    "#1\n",
    "a=\"Deep in the meadow, hidden far away A cloak of leaves, a moonbeam ray Forget your woes and let your troubles lay And when it's morning again, they'll wash away Here it's safe, here it's warm Here the daisies guard you from every harm Here your dreams are sweet and tomorrow brings them true Here is the place where I love you.\"\n",
    "b=np.array([a])\n",
    "X_testSentence=pd.Series(b)\n",
    "\n",
    "testSentance=vectorizer.transform(X_testSentence)\n",
    "#JR - 0, SC - 1\n",
    "print('Predicted value: ', classifier_rbf.predict(testSentance)) #should be 1"
   ]
  },
  {
   "cell_type": "code",
   "execution_count": 15,
   "metadata": {},
   "outputs": [
    {
     "name": "stdout",
     "output_type": "stream",
     "text": [
      "              precision    recall  f1-score   support\n",
      "\n",
      "           0       0.90      0.88      0.89      1222\n",
      "           1       0.89      0.91      0.90      1364\n",
      "\n",
      "    accuracy                           0.90      2586\n",
      "   macro avg       0.90      0.90      0.90      2586\n",
      "weighted avg       0.90      0.90      0.90      2586\n",
      "\n"
     ]
    }
   ],
   "source": [
    "predictions = classifier_rbf.predict(test_vectors)\n",
    "# getting the Precision, Recall, F1-Score = 2 * (precision * recall) / (precision + recall)\n",
    "print(classification_report(y_test,predictions))"
   ]
  },
  {
   "cell_type": "code",
   "execution_count": 16,
   "metadata": {},
   "outputs": [
    {
     "name": "stdout",
     "output_type": "stream",
     "text": [
      "Normalized confusion matrix\n",
      "[[0.87725041 0.12274959]\n",
      " [0.08577713 0.91422287]]\n"
     ]
    },
    {
     "data": {
      "image/png": "[encoded data removed]",
      "text/plain": [
       "<Figure size 432x288 with 2 Axes>"
      ]
     },
     "metadata": {
      "needs_background": "light"
     },
     "output_type": "display_data"
    }
   ],
   "source": [
    "def plot_confusion_matrix(cm, classes, normalize=False, title='Confusion matrix', cmap=plt.cm.Blues):\n",
    "    if normalize:\n",
    "        cm = cm.astype('float') / cm.sum(axis=1)[:, np.newaxis]\n",
    "        print(\"Normalized confusion matrix\")\n",
    "    else:\n",
    "        print('Confusion matrix, without normalization')\n",
    "    print(cm)\n",
    "    plt.imshow(cm, interpolation='nearest', cmap=cmap)\n",
    "    plt.title(title)\n",
    "    plt.colorbar()\n",
    "    tick_marks = np.arange(len(classes))\n",
    "    plt.xticks(tick_marks, classes, rotation=45)\n",
    "    plt.yticks(tick_marks, classes)\n",
    "    fmt = '.2f' if normalize else 'd'\n",
    "    thresh = cm.max() / 2.\n",
    "    for i, j in itertools.product(range(cm.shape[0])\n",
    "                                  , range(cm.shape[1])):\n",
    "        plt.text(j, i, format(cm[i, j], fmt),\n",
    "                 horizontalalignment=\"center\",\n",
    "                 color=\"white\" if cm[i, j] > thresh else \"black\")\n",
    "    plt.tight_layout()\n",
    "    plt.ylabel('True label')\n",
    "    plt.xlabel('Predicted label')\n",
    "    \n",
    "cm = confusion_matrix(y_test, predictions)\n",
    "plt.figure()\n",
    "plot_confusion_matrix(cm, classes=[0,1,2], normalize=True,\n",
    "                      title='Confusion Matrix')\n"
   ]
  },
  {
   "cell_type": "markdown",
   "metadata": {},
   "source": [
    "# Using Naive Bayes\n"
   ]
  },
  {
   "cell_type": "code",
   "execution_count": 73,
   "metadata": {},
   "outputs": [],
   "source": [
    "from sklearn.feature_extraction.text import CountVectorizer\n",
    "from sklearn.model_selection import train_test_split\n",
    "# 80-20 splitting the dataset (80%->Training and 20%->Validation)\n",
    "X_train, X_test, y_train, y_test = train_test_split(X, y\n",
    "                                  ,test_size=0.2, random_state=1234)\n",
    "# defining the bag-of-words transformer on the text-processed corpus # i.e., text_process() declared in II is executed...\n",
    "bow_transformer=CountVectorizer(analyzer=text_process).fit(X_train)\n",
    "# transforming into Bag-of-Words and hence textual data to numeric..\n",
    "text_bow_train=bow_transformer.transform(X_train)#ONLY TRAINING DATA\n",
    "# transforming into Bag-of-Words and hence textual data to numeric..\n",
    "text_bow_test=bow_transformer.transform(X_test)#TEST DATA"
   ]
  },
  {
   "cell_type": "code",
   "execution_count": 74,
   "metadata": {},
   "outputs": [
    {
     "name": "stdout",
     "output_type": "stream",
     "text": [
      "0.7584139264990328\n",
      "0.7625676720804331\n"
     ]
    }
   ],
   "source": [
    "from sklearn.naive_bayes import MultinomialNB\n",
    "# instantiating the model with Multinomial Naive Bayes..\n",
    "model = MultinomialNB()\n",
    "# training the model...\n",
    "model = model.fit(text_bow_train, y_train)\n",
    "\n",
    "train_naive=model.score(text_bow_train, y_train)\n",
    "test_naive=model.score(text_bow_test, y_test)\n",
    "print(train_naive)\n",
    "print(test_naive)"
   ]
  },
  {
   "cell_type": "markdown",
   "metadata": {},
   "source": [
    "# Using Logistic Regression"
   ]
  },
  {
   "cell_type": "code",
   "execution_count": 75,
   "metadata": {},
   "outputs": [],
   "source": [
    "from sklearn import linear_model\n",
    "clf = linear_model.LogisticRegression(C=1e5)\n",
    "vect = CountVectorizer()\n",
    "vect.fit(X_train)\n",
    "X_train_dtm = vect.transform(X_train)\n",
    "X_train_dtm = vect.fit_transform(X_train)\n",
    "X_test_dtm = vect.transform(X_test)\n"
   ]
  },
  {
   "cell_type": "code",
   "execution_count": 76,
   "metadata": {},
   "outputs": [
    {
     "name": "stdout",
     "output_type": "stream",
     "text": [
      "0.9950676982591876\n",
      "0.8789636504253674\n"
     ]
    },
    {
     "name": "stderr",
     "output_type": "stream",
     "text": [
      "C:\\Users\\kklak\\AppData\\Local\\Programs\\Python\\Python36-32\\Lib\\site-packages\\sklearn\\linear_model\\_logistic.py:940: ConvergenceWarning: lbfgs failed to converge (status=1):\n",
      "STOP: TOTAL NO. of ITERATIONS REACHED LIMIT.\n",
      "\n",
      "Increase the number of iterations (max_iter) or scale the data as shown in:\n",
      "    https://scikit-learn.org/stable/modules/preprocessing.html\n",
      "Please also refer to the documentation for alternative solver options:\n",
      "    https://scikit-learn.org/stable/modules/linear_model.html#logistic-regression\n",
      "  extra_warning_msg=_LOGISTIC_SOLVER_CONVERGENCE_MSG)\n"
     ]
    }
   ],
   "source": [
    "from sklearn import linear_model\n",
    "clf = linear_model.LogisticRegression(C=1e5)\n",
    "clf.fit(X_train_dtm, y_train)\n",
    "logistic_test = clf.score(X_test_dtm, y_test)\n",
    "logistic_train = clf.score(X_train_dtm, y_train)\n",
    "\n",
    "# metrics.accuracy_score(y_test, y_pred_class)\n",
    "print(logistic_train)\n",
    "print(logistic_test)"
   ]
  },
  {
   "cell_type": "markdown",
   "metadata": {},
   "source": [
    "# Comparing\n"
   ]
  },
  {
   "cell_type": "code",
   "execution_count": 77,
   "metadata": {},
   "outputs": [
    {
     "data": {
      "image/png": "[encoded data removed]",
      "text/plain": [
       "<Figure size 432x288 with 1 Axes>"
      ]
     },
     "metadata": {
      "needs_background": "light"
     },
     "output_type": "display_data"
    }
   ],
   "source": [
    "barWidth = 0.25\n",
    " \n",
    "bars1 = [score_train1,train_naive,logistic_train]\n",
    "bars2 = [score_test1,test_naive,logistic_test]\n",
    "\n",
    "r1 = np.arange(len(bars1))\n",
    "r2 = [x + barWidth for x in r1]\n",
    " \n",
    "plt.bar(r1, bars1, color='#7f6d5f', width=barWidth, edgecolor='white', label='Training score')\n",
    "plt.bar(r2, bars2, color='#557f2d', width=barWidth, edgecolor='white', label='Testing score')\n",
    " \n",
    "plt.xticks([r + barWidth for r in range(len(bars1))], ['SVM', 'Naive Bayes', 'Logistic Regression'])\n",
    " \n",
    "plt.legend(loc = 'lower right')\n",
    "\n",
    "rects=[score_train1,score_test1,train_naive,test_naive,logistic_train,logistic_test]\n",
    "labels = [round(x,3) for x in rects]\n",
    "\n",
    "width=[0,0.25,1,1.25,2,2.25]\n",
    "i=0\n",
    "for rect, label in zip(rects, labels):\n",
    "    height = rect\n",
    "    plt.text(width[i], height + 0.0001, label,\n",
    "            ha='center', va='bottom')\n",
    "    i+=1\n"
   ]
  },
  {
   "cell_type": "code",
   "execution_count": null,
   "metadata": {},
   "outputs": [],
   "source": []
  },
  {
   "cell_type": "code",
   "execution_count": 78,
   "metadata": {},
   "outputs": [],
   "source": [
    "# with open('hunger_games.txt', encoding='utf-8', newline='') as f:\n",
    "#     contents = f.read().replace('\\n','')\n",
    "\n",
    "# with open('hunger_games_splited.txt',  encoding='utf-8',mode='w') as f:\n",
    "#     f.write(contents.replace('. ', '.\\n'))\n",
    "    \n",
    "# with open('harry_potter.txt', encoding='utf-8', newline='') as f:\n",
    "#     contents = f.read().replace('\\n','')\n",
    "\n",
    "# with open('harry_potter_splited.txt',  encoding='utf-8',mode='w') as f:\n",
    "#     f.write(contents.replace('. ', '.\\n'))\n",
    "\n",
    "# file1=open('hunger_games_splited.txt',  encoding='utf-8', newline='')\n",
    "# file2=open('harry_potter_splited.txt',  encoding='utf-8', newline='')\n",
    "# with open('all_filw.txt',  encoding='utf-8',mode='w') as f:\n",
    "#     for line in file1:\n",
    "#         if not line.strip():continue\n",
    "#         f.write(line)\n",
    "#     for line in file2:\n",
    "#         if not line.strip():continue\n",
    "#         f.write(line)\n",
    "# file=open('all_filw.txt',  encoding='utf-8',newline='')\n",
    "# with open('all_films.csv',  encoding='utf-8',mode='w') as f:\n",
    "    \n",
    "#     for line in file:\n",
    "#         if not line.strip():continue\n",
    "#         f.write(line)\n",
    "# file.close()\n",
    "\n",
    "\n",
    "# data1 = pd.read_csv(\"hunger_games.csv\") \n",
    "# data2 = pd.read_csv(\"harry_potter.csv\") \n",
    "\n",
    "# frames=[data1,data2]\n",
    "# result_file=pd.concat(frames)\n",
    "\n",
    "# from sklearn.utils import shuffle\n",
    "# df = shuffle(result_file)"
   ]
  }
 ],
 "metadata": {
  "kernelspec": {
   "display_name": "Python 3",
   "language": "python",
   "name": "python3"
  },
  "language_info": {
   "codemirror_mode": {
    "name": "ipython",
    "version": 3
   },
   "file_extension": ".py",
   "mimetype": "text/x-python",
   "name": "python",
   "nbconvert_exporter": "python",
   "pygments_lexer": "ipython3",
   "version": "3.6.5"
  }
 },
 "nbformat": 4,
 "nbformat_minor": 4
}
