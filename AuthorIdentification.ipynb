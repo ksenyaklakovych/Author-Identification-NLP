{
 "cells": [
  {
   "cell_type": "code",
   "execution_count": 3,
   "metadata": {},
   "outputs": [],
   "source": [
    "import pandas as pd\n",
    "import string\n",
    "from nltk.corpus import stopwords\n",
    "from nltk.stem import WordNetLemmatizer\n",
    "from sklearn.preprocessing import LabelEncoder\n",
    "from PIL import Image\n",
    "from wordcloud import WordCloud\n",
    "import matplotlib.pyplot as plt\n",
    "from sklearn.model_selection import train_test_split\n",
    "from sklearn.naive_bayes import MultinomialNB \n",
    "from sklearn.metrics import classification_report\n",
    "from sklearn.metrics import confusion_matrix\n",
    "import numpy as np\n",
    "from sklearn.feature_extraction.text import TfidfVectorizer\n",
    "import itertools\n",
    "from sklearn import svm\n",
    "from matplotlib.colors import ListedColormap\n",
    "\n",
    "from IPython.core.display import display, HTML\n",
    "lemmatiser = WordNetLemmatizer()"
   ]
  },
  {
   "cell_type": "code",
   "execution_count": 4,
   "metadata": {},
   "outputs": [],
   "source": [
    "data_table=pd.read_csv('author_text.csv')\n",
    "from sklearn.utils import shuffle\n",
    "data_table = shuffle(data_table)\n",
    "\n",
    "def text_process(tex):\n",
    "    # 1. Removal of Punctuation Marks \n",
    "    nopunct=[char for char in tex if char not in string.punctuation] #!\"#$%&\\'()*+,-./:;<=>?@[\\\\]^_`{|}~\n",
    "    nopunct=''.join(nopunct)\n",
    "    # 2. Lemmatisation \n",
    "    a=''\n",
    "    i=0\n",
    "    for i in range(len(nopunct.split())):\n",
    "        b=lemmatiser.lemmatize(nopunct.split()[i], pos=\"v\")\n",
    "        a+=b+' '\n",
    "    # 3. Removal of Stopwords\n",
    "    return a\n",
    "#     return [word for word in a.split() if word.lower() not \n",
    "#             in stopwords.words('english')]\n",
    "\n",
    "y = data_table['Author']\n",
    "labelencoder = LabelEncoder()\n",
    "y = labelencoder.fit_transform(y) #[1, 0, 1, ..., 0, 1, 1] each text - numbber 0,1 - depending on author"
   ]
  },
  {
   "cell_type": "code",
   "execution_count": 5,
   "metadata": {},
   "outputs": [
    {
     "data": {
      "text/plain": [
       "array([0, 0, 1, ..., 0, 0, 0])"
      ]
     },
     "execution_count": 5,
     "metadata": {},
     "output_type": "execute_result"
    }
   ],
   "source": [
    "y"
   ]
  },
  {
   "cell_type": "code",
   "execution_count": 6,
   "metadata": {},
   "outputs": [
    {
     "data": {
      "text/html": [
       "<div>\n",
       "<style scoped>\n",
       "    .dataframe tbody tr th:only-of-type {\n",
       "        vertical-align: middle;\n",
       "    }\n",
       "\n",
       "    .dataframe tbody tr th {\n",
       "        vertical-align: top;\n",
       "    }\n",
       "\n",
       "    .dataframe thead th {\n",
       "        text-align: right;\n",
       "    }\n",
       "</style>\n",
       "<table border=\"1\" class=\"dataframe\">\n",
       "  <thead>\n",
       "    <tr style=\"text-align: right;\">\n",
       "      <th></th>\n",
       "      <th>Unnamed: 0</th>\n",
       "      <th>Text</th>\n",
       "      <th>Author</th>\n",
       "    </tr>\n",
       "  </thead>\n",
       "  <tbody>\n",
       "    <tr>\n",
       "      <th>12740</th>\n",
       "      <td>2179</td>\n",
       "      <td>“I’d be careful if I were you, Potter,” he sai...</td>\n",
       "      <td>JR</td>\n",
       "    </tr>\n",
       "    <tr>\n",
       "      <th>2361</th>\n",
       "      <td>3380</td>\n",
       "      <td>up to the castle. “I wouldn’t be surprised if ...</td>\n",
       "      <td>JR</td>\n",
       "    </tr>\n",
       "    <tr>\n",
       "      <th>5818</th>\n",
       "      <td>58</td>\n",
       "      <td>When I was younger, I scared my mother to deat...</td>\n",
       "      <td>SC</td>\n",
       "    </tr>\n",
       "    <tr>\n",
       "      <th>798</th>\n",
       "      <td>1888</td>\n",
       "      <td>shooting and they were ignoring me and I just ...</td>\n",
       "      <td>SC</td>\n",
       "    </tr>\n",
       "    <tr>\n",
       "      <th>12476</th>\n",
       "      <td>3647</td>\n",
       "      <td>Harry went to bed with his head buzzing with t...</td>\n",
       "      <td>JR</td>\n",
       "    </tr>\n",
       "    <tr>\n",
       "      <th>11925</th>\n",
       "      <td>4580</td>\n",
       "      <td>his moleskin overcoat.</td>\n",
       "      <td>JR</td>\n",
       "    </tr>\n",
       "    <tr>\n",
       "      <th>11985</th>\n",
       "      <td>2528</td>\n",
       "      <td>“Wouldn’t surprise me if you do,” says Peeta. ...</td>\n",
       "      <td>SC</td>\n",
       "    </tr>\n",
       "    <tr>\n",
       "      <th>10138</th>\n",
       "      <td>2616</td>\n",
       "      <td>me.</td>\n",
       "      <td>SC</td>\n",
       "    </tr>\n",
       "    <tr>\n",
       "      <th>4787</th>\n",
       "      <td>3102</td>\n",
       "      <td>nighttime visit and Hermione was locked out of...</td>\n",
       "      <td>JR</td>\n",
       "    </tr>\n",
       "    <tr>\n",
       "      <th>1618</th>\n",
       "      <td>2818</td>\n",
       "      <td>teeth and stick it out until dawn!</td>\n",
       "      <td>SC</td>\n",
       "    </tr>\n",
       "    <tr>\n",
       "      <th>2073</th>\n",
       "      <td>4653</td>\n",
       "      <td>“Won it,” said Hagrid. “Las’ night. I was down...</td>\n",
       "      <td>JR</td>\n",
       "    </tr>\n",
       "    <tr>\n",
       "      <th>9215</th>\n",
       "      <td>1931</td>\n",
       "      <td>Gamemakers must have been watching him. I dig ...</td>\n",
       "      <td>SC</td>\n",
       "    </tr>\n",
       "    <tr>\n",
       "      <th>10529</th>\n",
       "      <td>2786</td>\n",
       "      <td>girl made it. Both tributes from 6 and 7. The ...</td>\n",
       "      <td>SC</td>\n",
       "    </tr>\n",
       "    <tr>\n",
       "      <th>11770</th>\n",
       "      <td>2275</td>\n",
       "      <td>something like your family within Hogwarts. Yo...</td>\n",
       "      <td>JR</td>\n",
       "    </tr>\n",
       "    <tr>\n",
       "      <th>8659</th>\n",
       "      <td>1650</td>\n",
       "      <td>partnering up with me, either.</td>\n",
       "      <td>SC</td>\n",
       "    </tr>\n",
       "    <tr>\n",
       "      <th>6950</th>\n",
       "      <td>5667</td>\n",
       "      <td>huddle of limp black players slumped along the...</td>\n",
       "      <td>JR</td>\n",
       "    </tr>\n",
       "    <tr>\n",
       "      <th>8596</th>\n",
       "      <td>6557</td>\n",
       "      <td>All I have to say is, “The crowd loved you!” a...</td>\n",
       "      <td>SC</td>\n",
       "    </tr>\n",
       "    <tr>\n",
       "      <th>927</th>\n",
       "      <td>3905</td>\n",
       "      <td>off that the food is missing. Not enough to ca...</td>\n",
       "      <td>SC</td>\n",
       "    </tr>\n",
       "    <tr>\n",
       "      <th>7792</th>\n",
       "      <td>47</td>\n",
       "      <td>weirdos standing quite close by. They were whi...</td>\n",
       "      <td>JR</td>\n",
       "    </tr>\n",
       "    <tr>\n",
       "      <th>3374</th>\n",
       "      <td>3036</td>\n",
       "      <td>I crawl through a tangle of plants into a pond...</td>\n",
       "      <td>SC</td>\n",
       "    </tr>\n",
       "  </tbody>\n",
       "</table>\n",
       "</div>"
      ],
      "text/plain": [
       "       Unnamed: 0                                               Text Author\n",
       "12740        2179  “I’d be careful if I were you, Potter,” he sai...     JR\n",
       "2361         3380  up to the castle. “I wouldn’t be surprised if ...     JR\n",
       "5818           58  When I was younger, I scared my mother to deat...     SC\n",
       "798          1888  shooting and they were ignoring me and I just ...     SC\n",
       "12476        3647  Harry went to bed with his head buzzing with t...     JR\n",
       "11925        4580                             his moleskin overcoat.     JR\n",
       "11985        2528  “Wouldn’t surprise me if you do,” says Peeta. ...     SC\n",
       "10138        2616                                                me.     SC\n",
       "4787         3102  nighttime visit and Hermione was locked out of...     JR\n",
       "1618         2818                 teeth and stick it out until dawn!     SC\n",
       "2073         4653  “Won it,” said Hagrid. “Las’ night. I was down...     JR\n",
       "9215         1931  Gamemakers must have been watching him. I dig ...     SC\n",
       "10529        2786  girl made it. Both tributes from 6 and 7. The ...     SC\n",
       "11770        2275  something like your family within Hogwarts. Yo...     JR\n",
       "8659         1650                     partnering up with me, either.     SC\n",
       "6950         5667  huddle of limp black players slumped along the...     JR\n",
       "8596         6557  All I have to say is, “The crowd loved you!” a...     SC\n",
       "927          3905  off that the food is missing. Not enough to ca...     SC\n",
       "7792           47  weirdos standing quite close by. They were whi...     JR\n",
       "3374         3036  I crawl through a tangle of plants into a pond...     SC"
      ]
     },
     "execution_count": 6,
     "metadata": {},
     "output_type": "execute_result"
    }
   ],
   "source": [
    "data_table[:20]"
   ]
  },
  {
   "cell_type": "code",
   "execution_count": 7,
   "metadata": {},
   "outputs": [
    {
     "name": "stdout",
     "output_type": "stream",
     "text": [
      "For a moment, everything seems frozen in time. Then the apples spill to the ground and I’m\n",
      "SC\n"
     ]
    },
    {
     "data": {
      "image/png": "[encoded data removed]",
      "text/plain": [
       "<Figure size 432x288 with 1 Axes>"
      ]
     },
     "metadata": {
      "needs_background": "light"
     },
     "output_type": "display_data"
    },
    {
     "name": "stdout",
     "output_type": "stream",
     "text": [
      "his eyes fixed on the door. Any second now, Professor McGonagall would come back and lead\n",
      "JR\n"
     ]
    },
    {
     "data": {
      "image/png": "[encoded data removed]",
      "text/plain": [
       "<Figure size 432x288 with 1 Axes>"
      ]
     },
     "metadata": {
      "needs_background": "light"
     },
     "output_type": "display_data"
    }
   ],
   "source": [
    "X = data_table['Text'] #всі частинки тексту\n",
    "\n",
    "wordcloud2 = WordCloud().generate(X[1]) # for JR\n",
    "wordcloud1 = WordCloud().generate(X[2]) # for SC\n",
    "\n",
    "print(X[2])\n",
    "print(data_table['Author'][2]) #author name\n",
    "plt.imshow(wordcloud1, interpolation='bilinear') #показати картинкою\n",
    "plt.show()\n",
    "\n",
    "print(X[1])\n",
    "print(data_table['Author'][1])\n",
    "plt.imshow(wordcloud2, interpolation='bilinear')\n",
    "plt.show()"
   ]
  },
  {
   "cell_type": "code",
   "execution_count": 8,
   "metadata": {},
   "outputs": [
    {
     "data": {
      "text/html": [
       "<div>\n",
       "<style scoped>\n",
       "    .dataframe tbody tr th:only-of-type {\n",
       "        vertical-align: middle;\n",
       "    }\n",
       "\n",
       "    .dataframe tbody tr th {\n",
       "        vertical-align: top;\n",
       "    }\n",
       "\n",
       "    .dataframe thead th {\n",
       "        text-align: right;\n",
       "    }\n",
       "</style>\n",
       "<table border=\"1\" class=\"dataframe\">\n",
       "  <thead>\n",
       "    <tr style=\"text-align: right;\">\n",
       "      <th></th>\n",
       "      <th>Text</th>\n",
       "    </tr>\n",
       "  </thead>\n",
       "  <tbody>\n",
       "    <tr>\n",
       "      <th>12740</th>\n",
       "      <td>“I’d be careful if I were you, Potter,” he sai...</td>\n",
       "    </tr>\n",
       "    <tr>\n",
       "      <th>2361</th>\n",
       "      <td>up to the castle. “I wouldn’t be surprised if ...</td>\n",
       "    </tr>\n",
       "    <tr>\n",
       "      <th>5818</th>\n",
       "      <td>When I was younger, I scared my mother to deat...</td>\n",
       "    </tr>\n",
       "    <tr>\n",
       "      <th>798</th>\n",
       "      <td>shooting and they were ignoring me and I just ...</td>\n",
       "    </tr>\n",
       "    <tr>\n",
       "      <th>12476</th>\n",
       "      <td>Harry went to bed with his head buzzing with t...</td>\n",
       "    </tr>\n",
       "    <tr>\n",
       "      <th>...</th>\n",
       "      <td>...</td>\n",
       "    </tr>\n",
       "    <tr>\n",
       "      <th>4944</th>\n",
       "      <td>down.”</td>\n",
       "    </tr>\n",
       "    <tr>\n",
       "      <th>8970</th>\n",
       "      <td>Harry woke early the next morning. Although he...</td>\n",
       "    </tr>\n",
       "    <tr>\n",
       "      <th>5622</th>\n",
       "      <td>“Oh.” Dudley sat down heavily and grabbed the ...</td>\n",
       "    </tr>\n",
       "    <tr>\n",
       "      <th>7395</th>\n",
       "      <td>“Stop moving!” Hermione ordered them. “I know ...</td>\n",
       "    </tr>\n",
       "    <tr>\n",
       "      <th>6097</th>\n",
       "      <td>“No,” he said finally. “No, we’ll ignore it. I...</td>\n",
       "    </tr>\n",
       "  </tbody>\n",
       "</table>\n",
       "<p>12926 rows × 1 columns</p>\n",
       "</div>"
      ],
      "text/plain": [
       "                                                    Text\n",
       "12740  “I’d be careful if I were you, Potter,” he sai...\n",
       "2361   up to the castle. “I wouldn’t be surprised if ...\n",
       "5818   When I was younger, I scared my mother to deat...\n",
       "798    shooting and they were ignoring me and I just ...\n",
       "12476  Harry went to bed with his head buzzing with t...\n",
       "...                                                  ...\n",
       "4944                                              down.”\n",
       "8970   Harry woke early the next morning. Although he...\n",
       "5622   “Oh.” Dudley sat down heavily and grabbed the ...\n",
       "7395   “Stop moving!” Hermione ordered them. “I know ...\n",
       "6097   “No,” he said finally. “No, we’ll ignore it. I...\n",
       "\n",
       "[12926 rows x 1 columns]"
      ]
     },
     "execution_count": 8,
     "metadata": {},
     "output_type": "execute_result"
    }
   ],
   "source": [
    "X.to_frame()"
   ]
  },
  {
   "cell_type": "code",
   "execution_count": 87,
   "metadata": {},
   "outputs": [],
   "source": [
    "X= X.apply(text_process)"
   ]
  },
  {
   "cell_type": "code",
   "execution_count": 88,
   "metadata": {},
   "outputs": [
    {
     "data": {
      "text/html": [
       "<div>\n",
       "<style scoped>\n",
       "    .dataframe tbody tr th:only-of-type {\n",
       "        vertical-align: middle;\n",
       "    }\n",
       "\n",
       "    .dataframe tbody tr th {\n",
       "        vertical-align: top;\n",
       "    }\n",
       "\n",
       "    .dataframe thead th {\n",
       "        text-align: right;\n",
       "    }\n",
       "</style>\n",
       "<table border=\"1\" class=\"dataframe\">\n",
       "  <thead>\n",
       "    <tr style=\"text-align: right;\">\n",
       "      <th></th>\n",
       "      <th>Text</th>\n",
       "    </tr>\n",
       "  </thead>\n",
       "  <tbody>\n",
       "    <tr>\n",
       "      <th>7130</th>\n",
       "      <td>“I’d have think in District Eleven you’d have ...</td>\n",
       "    </tr>\n",
       "    <tr>\n",
       "      <th>1781</th>\n",
       "      <td>“Not if you don’t give us away Peeves please”</td>\n",
       "    </tr>\n",
       "    <tr>\n",
       "      <th>6874</th>\n",
       "      <td>“Merry Christmas”</td>\n",
       "    </tr>\n",
       "    <tr>\n",
       "      <th>4727</th>\n",
       "      <td>someone you wish you know But it take several ...</td>\n",
       "    </tr>\n",
       "    <tr>\n",
       "      <th>9808</th>\n",
       "      <td>A foul rotten taste pervade my mouth and the w...</td>\n",
       "    </tr>\n",
       "    <tr>\n",
       "      <th>...</th>\n",
       "      <td>...</td>\n",
       "    </tr>\n",
       "    <tr>\n",
       "      <th>7176</th>\n",
       "      <td>contract with anxiety and guilt at the sight o...</td>\n",
       "    </tr>\n",
       "    <tr>\n",
       "      <th>3027</th>\n",
       "      <td>asleep</td>\n",
       "    </tr>\n",
       "    <tr>\n",
       "      <th>7265</th>\n",
       "      <td>Harry be go to ask Ron if he’d have any of the...</td>\n",
       "    </tr>\n",
       "    <tr>\n",
       "      <th>4178</th>\n",
       "      <td>like the one Gale and I hear when the redheade...</td>\n",
       "    </tr>\n",
       "    <tr>\n",
       "      <th>6973</th>\n",
       "      <td>They watch the bird soar overhead glittering— ...</td>\n",
       "    </tr>\n",
       "  </tbody>\n",
       "</table>\n",
       "<p>12926 rows × 1 columns</p>\n",
       "</div>"
      ],
      "text/plain": [
       "                                                   Text\n",
       "7130  “I’d have think in District Eleven you’d have ...\n",
       "1781     “Not if you don’t give us away Peeves please” \n",
       "6874                                 “Merry Christmas” \n",
       "4727  someone you wish you know But it take several ...\n",
       "9808  A foul rotten taste pervade my mouth and the w...\n",
       "...                                                 ...\n",
       "7176  contract with anxiety and guilt at the sight o...\n",
       "3027                                            asleep \n",
       "7265  Harry be go to ask Ron if he’d have any of the...\n",
       "4178  like the one Gale and I hear when the redheade...\n",
       "6973  They watch the bird soar overhead glittering— ...\n",
       "\n",
       "[12926 rows x 1 columns]"
      ]
     },
     "execution_count": 88,
     "metadata": {},
     "output_type": "execute_result"
    }
   ],
   "source": [
    "X.to_frame()"
   ]
  },
  {
   "cell_type": "code",
   "execution_count": 89,
   "metadata": {},
   "outputs": [],
   "source": [
    "X_train, X_test, y_train, y_test = train_test_split(X, y\n",
    "                                  ,test_size=0.2, random_state=1234) #(80%->Training and 20%->Validation)\n",
    "\n",
    "vectorizer = TfidfVectorizer(min_df=5,\n",
    "                                 max_df = 0.8,\n",
    "                                 sublinear_tf=True,\n",
    "                                 use_idf=True)\n",
    "\n",
    "train_vectors = vectorizer.fit_transform(X_train)\n",
    "test_vectors = vectorizer.transform(X_test)\n",
    "\n"
   ]
  },
  {
   "cell_type": "code",
   "execution_count": 90,
   "metadata": {},
   "outputs": [
    {
     "name": "stdout",
     "output_type": "stream",
     "text": [
      "0.9940038684719535\n",
      "0.9013921113689095\n"
     ]
    }
   ],
   "source": [
    "#svm classification\n",
    "classifier_rbf = svm.SVC(C=10)\n",
    "classifier_rbf.fit(train_vectors, y_train)\n",
    "\n",
    "print(classifier_rbf.score(train_vectors, y_train)) #середня точність даних training\n",
    "print(classifier_rbf.score(test_vectors, y_test))#середня точність даних testing"
   ]
  },
  {
   "cell_type": "code",
   "execution_count": 91,
   "metadata": {},
   "outputs": [
    {
     "name": "stdout",
     "output_type": "stream",
     "text": [
      "Predicted value:  [1]\n"
     ]
    }
   ],
   "source": [
    "#0\n",
    "#a=\"report home to the Dursleys saying that he’d somehow turned his teacher’s wig blue. He kept\"\n",
    "#0\n",
    "# a=\"Samantha sometimes found Miles absurd and, increasingly, dull. Every now and then, though, she enjoyed his pomposity in precisely the same spirit as she liked\"\n",
    "#1\n",
    "a=\"Deep in the meadow, hidden far away A cloak of leaves, a moonbeam ray Forget your woes and let your troubles lay And when it's morning again, they'll wash away Here it's safe, here it's warm Here the daisies guard you from every harm Here your dreams are sweet and tomorrow brings them true Here is the place where I love you.\"\n",
    "b=np.array([a])\n",
    "X_testSentence=pd.Series(b)\n",
    "\n",
    "testSentance=vectorizer.transform(X_testSentence)\n",
    "#JR - 0, SC - 1\n",
    "print('Predicted value: ', classifier_rbf.predict(testSentance)) #should be 1"
   ]
  },
  {
   "cell_type": "code",
   "execution_count": 92,
   "metadata": {},
   "outputs": [
    {
     "name": "stdout",
     "output_type": "stream",
     "text": [
      "              precision    recall  f1-score   support\n",
      "\n",
      "           0       0.90      0.88      0.89      1207\n",
      "           1       0.90      0.92      0.91      1379\n",
      "\n",
      "    accuracy                           0.90      2586\n",
      "   macro avg       0.90      0.90      0.90      2586\n",
      "weighted avg       0.90      0.90      0.90      2586\n",
      "\n"
     ]
    }
   ],
   "source": [
    "predictions = classifier_rbf.predict(test_vectors)\n",
    "# getting the Precision, Recall, F1-Score = 2 * (precision * recall) / (precision + recall)\n",
    "print(classification_report(y_test,predictions))"
   ]
  },
  {
   "cell_type": "code",
   "execution_count": 93,
   "metadata": {},
   "outputs": [
    {
     "name": "stdout",
     "output_type": "stream",
     "text": [
      "Normalized confusion matrix\n",
      "[[0.88318144 0.11681856]\n",
      " [0.0826686  0.9173314 ]]\n"
     ]
    },
    {
     "data": {
      "image/png": "[encoded data removed]",
      "text/plain": [
       "<Figure size 432x288 with 2 Axes>"
      ]
     },
     "metadata": {
      "needs_background": "light"
     },
     "output_type": "display_data"
    }
   ],
   "source": [
    "def plot_confusion_matrix(cm, classes, normalize=False, title='Confusion matrix', cmap=plt.cm.Blues):\n",
    "    if normalize:\n",
    "        cm = cm.astype('float') / cm.sum(axis=1)[:, np.newaxis]\n",
    "        print(\"Normalized confusion matrix\")\n",
    "    else:\n",
    "        print('Confusion matrix, without normalization')\n",
    "    print(cm)\n",
    "    plt.imshow(cm, interpolation='nearest', cmap=cmap)\n",
    "    plt.title(title)\n",
    "    plt.colorbar()\n",
    "    tick_marks = np.arange(len(classes))\n",
    "    plt.xticks(tick_marks, classes, rotation=45)\n",
    "    plt.yticks(tick_marks, classes)\n",
    "    fmt = '.2f' if normalize else 'd'\n",
    "    thresh = cm.max() / 2.\n",
    "    for i, j in itertools.product(range(cm.shape[0])\n",
    "                                  , range(cm.shape[1])):\n",
    "        plt.text(j, i, format(cm[i, j], fmt),\n",
    "                 horizontalalignment=\"center\",\n",
    "                 color=\"white\" if cm[i, j] > thresh else \"black\")\n",
    "    plt.tight_layout()\n",
    "    plt.ylabel('True label')\n",
    "    plt.xlabel('Predicted label')\n",
    "    \n",
    "cm = confusion_matrix(y_test, predictions)\n",
    "plt.figure()\n",
    "plot_confusion_matrix(cm, classes=[0,1,2], normalize=True,\n",
    "                      title='Confusion Matrix')\n"
   ]
  },
  {
   "cell_type": "code",
   "execution_count": null,
   "metadata": {},
   "outputs": [],
   "source": []
  },
  {
   "cell_type": "code",
   "execution_count": 78,
   "metadata": {},
   "outputs": [],
   "source": [
    "# with open('hunger_games.txt', encoding='utf-8', newline='') as f:\n",
    "#     contents = f.read().replace('\\n','')\n",
    "\n",
    "# with open('hunger_games_splited.txt',  encoding='utf-8',mode='w') as f:\n",
    "#     f.write(contents.replace('. ', '.\\n'))\n",
    "    \n",
    "# with open('harry_potter.txt', encoding='utf-8', newline='') as f:\n",
    "#     contents = f.read().replace('\\n','')\n",
    "\n",
    "# with open('harry_potter_splited.txt',  encoding='utf-8',mode='w') as f:\n",
    "#     f.write(contents.replace('. ', '.\\n'))\n",
    "\n",
    "# file1=open('hunger_games_splited.txt',  encoding='utf-8', newline='')\n",
    "# file2=open('harry_potter_splited.txt',  encoding='utf-8', newline='')\n",
    "# with open('all_filw.txt',  encoding='utf-8',mode='w') as f:\n",
    "#     for line in file1:\n",
    "#         if not line.strip():continue\n",
    "#         f.write(line)\n",
    "#     for line in file2:\n",
    "#         if not line.strip():continue\n",
    "#         f.write(line)\n",
    "# file=open('all_filw.txt',  encoding='utf-8',newline='')\n",
    "# with open('all_films.csv',  encoding='utf-8',mode='w') as f:\n",
    "    \n",
    "#     for line in file:\n",
    "#         if not line.strip():continue\n",
    "#         f.write(line)\n",
    "# file.close()\n",
    "\n",
    "\n",
    "# data1 = pd.read_csv(\"hunger_games.csv\") \n",
    "# data2 = pd.read_csv(\"harry_potter.csv\") \n",
    "\n",
    "# frames=[data1,data2]\n",
    "# result_file=pd.concat(frames)\n",
    "\n",
    "# from sklearn.utils import shuffle\n",
    "# df = shuffle(result_file)"
   ]
  }
 ],
 "metadata": {
  "kernelspec": {
   "display_name": "Python 3",
   "language": "python",
   "name": "python3"
  },
  "language_info": {
   "codemirror_mode": {
    "name": "ipython",
    "version": 3
   },
   "file_extension": ".py",
   "mimetype": "text/x-python",
   "name": "python",
   "nbconvert_exporter": "python",
   "pygments_lexer": "ipython3",
   "version": "3.6.5"
  }
 },
 "nbformat": 4,
 "nbformat_minor": 4
}
