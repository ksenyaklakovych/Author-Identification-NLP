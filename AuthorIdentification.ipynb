{
 "cells": [
  {
   "cell_type": "code",
   "execution_count": 1,
   "metadata": {},
   "outputs": [],
   "source": [
    "import pandas as pd\n",
    "import string\n",
    "from nltk.corpus import stopwords\n",
    "from nltk.stem import WordNetLemmatizer\n",
    "from sklearn.preprocessing import LabelEncoder\n",
    "from PIL import Image\n",
    "from wordcloud import WordCloud\n",
    "import matplotlib.pyplot as plt\n",
    "from sklearn.model_selection import train_test_split\n",
    "from sklearn.naive_bayes import MultinomialNB \n",
    "from sklearn.metrics import classification_report\n",
    "from sklearn.metrics import confusion_matrix\n",
    "import numpy as np\n",
    "from sklearn.feature_extraction.text import TfidfVectorizer\n",
    "import itertools\n",
    "from sklearn import svm\n",
    "from matplotlib.colors import ListedColormap\n",
    "from IPython.core.display import display, HTML\n",
    "lemmatiser = WordNetLemmatizer()\n",
    "from sklearn.utils import shuffle"
   ]
  },
  {
   "cell_type": "code",
   "execution_count": 2,
   "metadata": {},
   "outputs": [],
   "source": [
    "data_table=pd.read_csv('author_text.csv')\n",
    "data_table = shuffle(data_table)\n",
    "\n",
    "def text_process(tex):\n",
    "    # 1. Removal of Punctuation Marks \n",
    "    nopunct=[char for char in tex if char not in string.punctuation] #!\"#$%&\\'()*+,-./:;<=>?@[\\\\]^_`{|}~\n",
    "    nopunct=''.join(nopunct)\n",
    "    # 2. Lemmatisation \n",
    "    a=''\n",
    "    i=0\n",
    "    for i in range(len(nopunct.split())):\n",
    "        b=lemmatiser.lemmatize(nopunct.split()[i], pos=\"v\")\n",
    "        a+=b+' '\n",
    "    # 3. Removal of Stopwords\n",
    "    return a\n",
    "#     return [word for word in a.split() if word.lower() not \n",
    "#             in stopwords.words('english')]\n",
    "\n",
    "y = data_table['Author']\n",
    "labelencoder = LabelEncoder()\n",
    "y = labelencoder.fit_transform(y) #[1, 0, 1, ..., 0, 1, 1] each text - numbber 0,1 - depending on author"
   ]
  },
  {
   "cell_type": "code",
   "execution_count": 3,
   "metadata": {},
   "outputs": [
    {
     "data": {
      "text/plain": [
       "array([1, 0, 1, ..., 0, 0, 0])"
      ]
     },
     "execution_count": 3,
     "metadata": {},
     "output_type": "execute_result"
    }
   ],
   "source": [
    "y"
   ]
  },
  {
   "cell_type": "code",
   "execution_count": 4,
   "metadata": {},
   "outputs": [
    {
     "data": {
      "text/html": [
       "<div>\n",
       "<style scoped>\n",
       "    .dataframe tbody tr th:only-of-type {\n",
       "        vertical-align: middle;\n",
       "    }\n",
       "\n",
       "    .dataframe tbody tr th {\n",
       "        vertical-align: top;\n",
       "    }\n",
       "\n",
       "    .dataframe thead th {\n",
       "        text-align: right;\n",
       "    }\n",
       "</style>\n",
       "<table border=\"1\" class=\"dataframe\">\n",
       "  <thead>\n",
       "    <tr style=\"text-align: right;\">\n",
       "      <th></th>\n",
       "      <th>Unnamed: 0</th>\n",
       "      <th>Text</th>\n",
       "      <th>Author</th>\n",
       "    </tr>\n",
       "  </thead>\n",
       "  <tbody>\n",
       "    <tr>\n",
       "      <th>5161</th>\n",
       "      <td>9</td>\n",
       "      <td>muddy yellow coat matched the bright flower. H...</td>\n",
       "      <td>SC</td>\n",
       "    </tr>\n",
       "    <tr>\n",
       "      <th>113</th>\n",
       "      <td>4156</td>\n",
       "      <td>that it reflected them, invisible or not?</td>\n",
       "      <td>JR</td>\n",
       "    </tr>\n",
       "    <tr>\n",
       "      <th>9215</th>\n",
       "      <td>1931</td>\n",
       "      <td>Gamemakers must have been watching him. I dig ...</td>\n",
       "      <td>SC</td>\n",
       "    </tr>\n",
       "    <tr>\n",
       "      <th>8264</th>\n",
       "      <td>936</td>\n",
       "      <td>of the woods, and of my father, and of my moth...</td>\n",
       "      <td>SC</td>\n",
       "    </tr>\n",
       "    <tr>\n",
       "      <th>6059</th>\n",
       "      <td>6138</td>\n",
       "      <td>Percy could be heard telling the other prefect...</td>\n",
       "      <td>JR</td>\n",
       "    </tr>\n",
       "    <tr>\n",
       "      <th>11100</th>\n",
       "      <td>4437</td>\n",
       "      <td>than usual. The waters cool and pleasant on my...</td>\n",
       "      <td>SC</td>\n",
       "    </tr>\n",
       "    <tr>\n",
       "      <th>1431</th>\n",
       "      <td>2209</td>\n",
       "      <td>pounding in my temples. It’s a relief to get t...</td>\n",
       "      <td>SC</td>\n",
       "    </tr>\n",
       "    <tr>\n",
       "      <th>4757</th>\n",
       "      <td>2764</td>\n",
       "      <td>bag in a relatively comfortable manner. I plac...</td>\n",
       "      <td>SC</td>\n",
       "    </tr>\n",
       "    <tr>\n",
       "      <th>4738</th>\n",
       "      <td>6146</td>\n",
       "      <td>nerve and outstanding courage, I award Gryffin...</td>\n",
       "      <td>JR</td>\n",
       "    </tr>\n",
       "    <tr>\n",
       "      <th>4535</th>\n",
       "      <td>5454</td>\n",
       "      <td>“Ah, that’ll be nice,” says Peeta, tightening ...</td>\n",
       "      <td>SC</td>\n",
       "    </tr>\n",
       "    <tr>\n",
       "      <th>7383</th>\n",
       "      <td>3643</td>\n",
       "      <td>“No—he wouldn’t,” she said. “I know he’s not v...</td>\n",
       "      <td>JR</td>\n",
       "    </tr>\n",
       "    <tr>\n",
       "      <th>4042</th>\n",
       "      <td>5629</td>\n",
       "      <td>there to replenish our water. I check the snar...</td>\n",
       "      <td>SC</td>\n",
       "    </tr>\n",
       "    <tr>\n",
       "      <th>2535</th>\n",
       "      <td>2674</td>\n",
       "      <td>face. Thanks for the knife, I think.</td>\n",
       "      <td>SC</td>\n",
       "    </tr>\n",
       "    <tr>\n",
       "      <th>1571</th>\n",
       "      <td>930</td>\n",
       "      <td>Gray light is leaking through the curtains whe...</td>\n",
       "      <td>SC</td>\n",
       "    </tr>\n",
       "    <tr>\n",
       "      <th>2129</th>\n",
       "      <td>1235</td>\n",
       "      <td>For the first time, I feel a flicker of hope r...</td>\n",
       "      <td>SC</td>\n",
       "    </tr>\n",
       "    <tr>\n",
       "      <th>5380</th>\n",
       "      <td>1911</td>\n",
       "      <td>“Blown up a toilet? We’ve never blown up a toi...</td>\n",
       "      <td>JR</td>\n",
       "    </tr>\n",
       "    <tr>\n",
       "      <th>11278</th>\n",
       "      <td>1884</td>\n",
       "      <td>on the platform and hear what they were saying...</td>\n",
       "      <td>JR</td>\n",
       "    </tr>\n",
       "    <tr>\n",
       "      <th>1457</th>\n",
       "      <td>5853</td>\n",
       "      <td>Quirrell moved close behind him. Harry breathe...</td>\n",
       "      <td>JR</td>\n",
       "    </tr>\n",
       "    <tr>\n",
       "      <th>6475</th>\n",
       "      <td>5746</td>\n",
       "      <td>“I wonder how she found us,” says Peeta. “My f...</td>\n",
       "      <td>SC</td>\n",
       "    </tr>\n",
       "    <tr>\n",
       "      <th>5416</th>\n",
       "      <td>5102</td>\n",
       "      <td>out. I will die, in my own small way, undefeated.</td>\n",
       "      <td>SC</td>\n",
       "    </tr>\n",
       "  </tbody>\n",
       "</table>\n",
       "</div>"
      ],
      "text/plain": [
       "       Unnamed: 0                                               Text Author\n",
       "5161            9  muddy yellow coat matched the bright flower. H...     SC\n",
       "113          4156          that it reflected them, invisible or not?     JR\n",
       "9215         1931  Gamemakers must have been watching him. I dig ...     SC\n",
       "8264          936  of the woods, and of my father, and of my moth...     SC\n",
       "6059         6138  Percy could be heard telling the other prefect...     JR\n",
       "11100        4437  than usual. The waters cool and pleasant on my...     SC\n",
       "1431         2209  pounding in my temples. It’s a relief to get t...     SC\n",
       "4757         2764  bag in a relatively comfortable manner. I plac...     SC\n",
       "4738         6146  nerve and outstanding courage, I award Gryffin...     JR\n",
       "4535         5454  “Ah, that’ll be nice,” says Peeta, tightening ...     SC\n",
       "7383         3643  “No—he wouldn’t,” she said. “I know he’s not v...     JR\n",
       "4042         5629  there to replenish our water. I check the snar...     SC\n",
       "2535         2674               face. Thanks for the knife, I think.     SC\n",
       "1571          930  Gray light is leaking through the curtains whe...     SC\n",
       "2129         1235  For the first time, I feel a flicker of hope r...     SC\n",
       "5380         1911  “Blown up a toilet? We’ve never blown up a toi...     JR\n",
       "11278        1884  on the platform and hear what they were saying...     JR\n",
       "1457         5853  Quirrell moved close behind him. Harry breathe...     JR\n",
       "6475         5746  “I wonder how she found us,” says Peeta. “My f...     SC\n",
       "5416         5102  out. I will die, in my own small way, undefeated.     SC"
      ]
     },
     "execution_count": 4,
     "metadata": {},
     "output_type": "execute_result"
    }
   ],
   "source": [
    "data_table[:20]"
   ]
  },
  {
   "cell_type": "code",
   "execution_count": 5,
   "metadata": {},
   "outputs": [
    {
     "name": "stdout",
     "output_type": "stream",
     "text": [
      "For a moment, everything seems frozen in time. Then the apples spill to the ground and I’m\n",
      "SC\n"
     ]
    },
    {
     "data": {
      "image/png": "[encoded data removed]",
      "text/plain": [
       "<Figure size 432x288 with 1 Axes>"
      ]
     },
     "metadata": {
      "needs_background": "light"
     },
     "output_type": "display_data"
    },
    {
     "name": "stdout",
     "output_type": "stream",
     "text": [
      "his eyes fixed on the door. Any second now, Professor McGonagall would come back and lead\n",
      "JR\n"
     ]
    },
    {
     "data": {
      "image/png": "[encoded data removed]",
      "text/plain": [
       "<Figure size 432x288 with 1 Axes>"
      ]
     },
     "metadata": {
      "needs_background": "light"
     },
     "output_type": "display_data"
    }
   ],
   "source": [
    "X = data_table['Text'] #всі частинки тексту\n",
    "\n",
    "wordcloud2 = WordCloud().generate(X[1]) # for JR\n",
    "wordcloud1 = WordCloud().generate(X[2]) # for SC\n",
    "\n",
    "print(X[2])\n",
    "print(data_table['Author'][2]) #author name\n",
    "plt.imshow(wordcloud1, interpolation='bilinear') #показати картинкою\n",
    "plt.show()\n",
    "\n",
    "print(X[1])\n",
    "print(data_table['Author'][1])\n",
    "plt.imshow(wordcloud2, interpolation='bilinear')\n",
    "plt.show()"
   ]
  },
  {
   "cell_type": "code",
   "execution_count": 7,
   "metadata": {},
   "outputs": [],
   "source": [
    "X= X.apply(text_process)"
   ]
  },
  {
   "cell_type": "code",
   "execution_count": 15,
   "metadata": {},
   "outputs": [],
   "source": [
    "X_train, X_test, y_train, y_test = train_test_split(X, y\n",
    "                                  ,test_size=0.2, random_state=1234) #(80%->Training and 20%->Validation)\n",
    "\n",
    "vectorizer = TfidfVectorizer()\n",
    "\n",
    "train_vectors = vectorizer.fit_transform(X_train)\n",
    "test_vectors = vectorizer.transform(X_test)"
   ]
  },
  {
   "cell_type": "code",
   "execution_count": 22,
   "metadata": {},
   "outputs": [
    {
     "name": "stdout",
     "output_type": "stream",
     "text": [
      "  (0, 273)\t0.30059688269008344\n",
      "  (0, 287)\t0.3324304903262572\n",
      "  (0, 337)\t0.21618582518547816\n",
      "  (0, 496)\t0.09451168790763353\n",
      "  (0, 1452)\t0.3391689039860253\n",
      "  (0, 3253)\t0.11946344301655039\n",
      "  (0, 3889)\t0.4174923761626954\n",
      "  (0, 4234)\t0.1717277630158547\n",
      "  (0, 4367)\t0.22303365858230378\n",
      "  (0, 6221)\t0.24519337155462062\n",
      "  (0, 6413)\t0.13649956818790085\n",
      "  (0, 6529)\t0.09710017416626703\n",
      "  (0, 6688)\t0.39976821415382796\n",
      "  (0, 7112)\t0.33559848235956824\n",
      "  (1, 173)\t0.41596425956085453\n",
      "  (1, 337)\t0.5236519425954871\n",
      "  (1, 4539)\t0.43661793008900296\n",
      "  (1, 5226)\t0.4991810562839263\n",
      "  (1, 7297)\t0.33607355438359143\n",
      "  (2, 95)\t0.3774297190252052\n",
      "  (2, 217)\t0.09654235817161265\n",
      "  (2, 219)\t0.3190739448243771\n",
      "  (2, 1689)\t0.2976747366821395\n",
      "  (2, 2526)\t0.3997590081166738\n",
      "  (2, 2853)\t0.25157374838938273\n",
      "  :\t:\n",
      "  (2582, 6985)\t0.28992272275200603\n",
      "  (2583, 173)\t0.20035656729995965\n",
      "  (2583, 217)\t0.11263956735656408\n",
      "  (2583, 496)\t0.11026776932481383\n",
      "  (2583, 972)\t0.41639085224264466\n",
      "  (2583, 1347)\t0.23223186878766097\n",
      "  (2583, 1498)\t0.27419643844546254\n",
      "  (2583, 1814)\t0.40501039703188985\n",
      "  (2583, 2231)\t0.3647985978453626\n",
      "  (2583, 2942)\t0.29460300797646827\n",
      "  (2583, 4093)\t0.2668982094261496\n",
      "  (2583, 4484)\t0.3239584465512924\n",
      "  (2583, 7120)\t0.21499779336060335\n",
      "  (2583, 7297)\t0.161875791414579\n",
      "  (2584, 2899)\t1.0\n",
      "  (2585, 332)\t0.27924956816274404\n",
      "  (2585, 496)\t0.16587197247602053\n",
      "  (2585, 1359)\t0.4450605433377649\n",
      "  (2585, 2432)\t0.2708863096895\n",
      "  (2585, 3862)\t0.44327631335804485\n",
      "  (2585, 3868)\t0.2705143408095779\n",
      "  (2585, 4326)\t0.3592870069777997\n",
      "  (2585, 6413)\t0.23956246173044454\n",
      "  (2585, 6415)\t0.13066356907581583\n",
      "  (2585, 7099)\t0.3870732412729485\n"
     ]
    }
   ],
   "source": [
    "print(test_vectors)"
   ]
  },
  {
   "cell_type": "code",
   "execution_count": 16,
   "metadata": {},
   "outputs": [
    {
     "name": "stdout",
     "output_type": "stream",
     "text": [
      "0.9983558994197292\n",
      "0.9098994586233565\n"
     ]
    }
   ],
   "source": [
    "#svm classification\n",
    "classifier_rbf = svm.SVC(C=10)\n",
    "classifier_rbf.fit(train_vectors, y_train)\n",
    "\n",
    "score_train1=classifier_rbf.score(train_vectors, y_train)\n",
    "score_test1=classifier_rbf.score(test_vectors, y_test)\n",
    "print(score_train1) #середня точність даних training\n",
    "print(score_test1)#середня точність даних testing"
   ]
  },
  {
   "cell_type": "code",
   "execution_count": 17,
   "metadata": {},
   "outputs": [
    {
     "name": "stdout",
     "output_type": "stream",
     "text": [
      "0.9608317214700194\n",
      "0.9025522041763341\n"
     ]
    }
   ],
   "source": [
    "classifier_linear=svm.SVC(kernel='linear')\n",
    "classifier_linear.fit(train_vectors, y_train)\n",
    "\n",
    "score_train2=classifier_linear.score(train_vectors, y_train)\n",
    "score_test2=classifier_linear.score(test_vectors, y_test)\n",
    "print(score_train2) #середня точність даних training\n",
    "print(score_test2)#середня точність даних testing"
   ]
  },
  {
   "cell_type": "code",
   "execution_count": 18,
   "metadata": {},
   "outputs": [
    {
     "name": "stdout",
     "output_type": "stream",
     "text": [
      "0.977852998065764\n",
      "0.9048723897911833\n"
     ]
    }
   ],
   "source": [
    "classifier_liblinear = svm.LinearSVC()\n",
    "classifier_liblinear.fit(train_vectors, y_train)\n",
    "\n",
    "score_train3=classifier_liblinear.score(train_vectors, y_train)\n",
    "score_test3=classifier_liblinear.score(test_vectors, y_test)\n",
    "print(score_train3) #середня точність даних training\n",
    "print(score_test3)#середня точність даних testing"
   ]
  },
  {
   "cell_type": "code",
   "execution_count": 19,
   "metadata": {},
   "outputs": [
    {
     "data": {
      "image/png": "[encoded data removed]",
      "text/plain": [
       "<Figure size 432x288 with 1 Axes>"
      ]
     },
     "metadata": {
      "needs_background": "light"
     },
     "output_type": "display_data"
    }
   ],
   "source": [
    "import numpy as np\n",
    "import matplotlib.pyplot as plt\n",
    " \n",
    "barWidth = 0.25\n",
    " \n",
    "bars1 = [score_train1,score_train2,score_train3]\n",
    "bars2 = [score_test1,score_test2,score_test3]\n",
    "\n",
    "r1 = np.arange(len(bars1))\n",
    "r2 = [x + barWidth for x in r1]\n",
    " \n",
    "plt.bar(r1, bars1, color='#7f6d5f', width=barWidth, edgecolor='white', label='Training score')\n",
    "plt.bar(r2, bars2, color='#557f2d', width=barWidth, edgecolor='white', label='Testing score')\n",
    " \n",
    "plt.xticks([r + barWidth for r in range(len(bars1))], ['SVM, kernel=rbf', 'SVM, kernel=linear', 'LinearSVM'])\n",
    " \n",
    "plt.legend(loc = 'lower right')\n",
    "\n",
    "rects=[score_train1,score_test1,score_train2,score_test2,score_train3,score_test3]\n",
    "labels = [round(x,3) for x in rects]\n",
    "\n",
    "width=[0,0.25,1,1.25,2,2.25]\n",
    "i=0\n",
    "for rect, label in zip(rects, labels):\n",
    "    height = rect\n",
    "    plt.text(width[i], height + 0.0001, label,\n",
    "            ha='center', va='bottom')\n",
    "    i+=1\n"
   ]
  },
  {
   "cell_type": "code",
   "execution_count": 14,
   "metadata": {},
   "outputs": [
    {
     "name": "stdout",
     "output_type": "stream",
     "text": [
      "Predicted value:  [1]\n"
     ]
    }
   ],
   "source": [
    "#0\n",
    "#a=\"report home to the Dursleys saying that he’d somehow turned his teacher’s wig blue. He kept\"\n",
    "#0\n",
    "# a=\"Samantha sometimes found Miles absurd and, increasingly, dull. Every now and then, though, she enjoyed his pomposity in precisely the same spirit as she liked\"\n",
    "#1\n",
    "a=\"Deep in the meadow, hidden far away A cloak of leaves, a moonbeam ray Forget your woes and let your troubles lay And when it's morning again, they'll wash away Here it's safe, here it's warm Here the daisies guard you from every harm Here your dreams are sweet and tomorrow brings them true Here is the place where I love you.\"\n",
    "b=np.array([a])\n",
    "X_testSentence=pd.Series(b)\n",
    "\n",
    "testSentance=vectorizer.transform(X_testSentence)\n",
    "#JR - 0, SC - 1\n",
    "print('Predicted value: ', classifier_rbf.predict(testSentance)) #should be 1"
   ]
  },
  {
   "cell_type": "code",
   "execution_count": 15,
   "metadata": {},
   "outputs": [
    {
     "name": "stdout",
     "output_type": "stream",
     "text": [
      "              precision    recall  f1-score   support\n",
      "\n",
      "           0       0.90      0.88      0.89      1222\n",
      "           1       0.89      0.91      0.90      1364\n",
      "\n",
      "    accuracy                           0.90      2586\n",
      "   macro avg       0.90      0.90      0.90      2586\n",
      "weighted avg       0.90      0.90      0.90      2586\n",
      "\n"
     ]
    }
   ],
   "source": [
    "predictions = classifier_rbf.predict(test_vectors)\n",
    "# getting the Precision, Recall, F1-Score = 2 * (precision * recall) / (precision + recall)\n",
    "print(classification_report(y_test,predictions))"
   ]
  },
  {
   "cell_type": "code",
   "execution_count": 16,
   "metadata": {},
   "outputs": [
    {
     "name": "stdout",
     "output_type": "stream",
     "text": [
      "Normalized confusion matrix\n",
      "[[0.87725041 0.12274959]\n",
      " [0.08577713 0.91422287]]\n"
     ]
    },
    {
     "data": {
      "image/png": "[encoded data removed]",
      "text/plain": [
       "<Figure size 432x288 with 2 Axes>"
      ]
     },
     "metadata": {
      "needs_background": "light"
     },
     "output_type": "display_data"
    }
   ],
   "source": [
    "def plot_confusion_matrix(cm, classes, normalize=False, title='Confusion matrix', cmap=plt.cm.Blues):\n",
    "    if normalize:\n",
    "        cm = cm.astype('float') / cm.sum(axis=1)[:, np.newaxis]\n",
    "        print(\"Normalized confusion matrix\")\n",
    "    else:\n",
    "        print('Confusion matrix, without normalization')\n",
    "    print(cm)\n",
    "    plt.imshow(cm, interpolation='nearest', cmap=cmap)\n",
    "    plt.title(title)\n",
    "    plt.colorbar()\n",
    "    tick_marks = np.arange(len(classes))\n",
    "    plt.xticks(tick_marks, classes, rotation=45)\n",
    "    plt.yticks(tick_marks, classes)\n",
    "    fmt = '.2f' if normalize else 'd'\n",
    "    thresh = cm.max() / 2.\n",
    "    for i, j in itertools.product(range(cm.shape[0])\n",
    "                                  , range(cm.shape[1])):\n",
    "        plt.text(j, i, format(cm[i, j], fmt),\n",
    "                 horizontalalignment=\"center\",\n",
    "                 color=\"white\" if cm[i, j] > thresh else \"black\")\n",
    "    plt.tight_layout()\n",
    "    plt.ylabel('True label')\n",
    "    plt.xlabel('Predicted label')\n",
    "    \n",
    "cm = confusion_matrix(y_test, predictions)\n",
    "plt.figure()\n",
    "plot_confusion_matrix(cm, classes=[0,1,2], normalize=True,\n",
    "                      title='Confusion Matrix')\n"
   ]
  },
  {
   "cell_type": "markdown",
   "metadata": {},
   "source": [
    "# Using Naive Bayes\n"
   ]
  },
  {
   "cell_type": "code",
   "execution_count": 73,
   "metadata": {},
   "outputs": [],
   "source": [
    "from sklearn.feature_extraction.text import CountVectorizer\n",
    "from sklearn.model_selection import train_test_split\n",
    "# 80-20 splitting the dataset (80%->Training and 20%->Validation)\n",
    "X_train, X_test, y_train, y_test = train_test_split(X, y\n",
    "                                  ,test_size=0.2, random_state=1234)\n",
    "# defining the bag-of-words transformer on the text-processed corpus # i.e., text_process() declared in II is executed...\n",
    "bow_transformer=CountVectorizer(analyzer=text_process).fit(X_train)\n",
    "# transforming into Bag-of-Words and hence textual data to numeric..\n",
    "text_bow_train=bow_transformer.transform(X_train)#ONLY TRAINING DATA\n",
    "# transforming into Bag-of-Words and hence textual data to numeric..\n",
    "text_bow_test=bow_transformer.transform(X_test)#TEST DATA"
   ]
  },
  {
   "cell_type": "code",
   "execution_count": 74,
   "metadata": {},
   "outputs": [
    {
     "name": "stdout",
     "output_type": "stream",
     "text": [
      "0.7584139264990328\n",
      "0.7625676720804331\n"
     ]
    }
   ],
   "source": [
    "from sklearn.naive_bayes import MultinomialNB\n",
    "# instantiating the model with Multinomial Naive Bayes..\n",
    "model = MultinomialNB()\n",
    "# training the model...\n",
    "model = model.fit(text_bow_train, y_train)\n",
    "\n",
    "train_naive=model.score(text_bow_train, y_train)\n",
    "test_naive=model.score(text_bow_test, y_test)\n",
    "print(train_naive)\n",
    "print(test_naive)"
   ]
  },
  {
   "cell_type": "markdown",
   "metadata": {},
   "source": [
    "# Using Logistic Regression"
   ]
  },
  {
   "cell_type": "code",
   "execution_count": 75,
   "metadata": {},
   "outputs": [],
   "source": [
    "from sklearn import linear_model\n",
    "clf = linear_model.LogisticRegression(C=1e5)\n",
    "vect = CountVectorizer()\n",
    "vect.fit(X_train)\n",
    "X_train_dtm = vect.transform(X_train)\n",
    "X_train_dtm = vect.fit_transform(X_train)\n",
    "X_test_dtm = vect.transform(X_test)\n"
   ]
  },
  {
   "cell_type": "code",
   "execution_count": 76,
   "metadata": {},
   "outputs": [
    {
     "name": "stdout",
     "output_type": "stream",
     "text": [
      "0.9950676982591876\n",
      "0.8789636504253674\n"
     ]
    },
    {
     "name": "stderr",
     "output_type": "stream",
     "text": [
      "C:\\Users\\kklak\\AppData\\Local\\Programs\\Python\\Python36-32\\Lib\\site-packages\\sklearn\\linear_model\\_logistic.py:940: ConvergenceWarning: lbfgs failed to converge (status=1):\n",
      "STOP: TOTAL NO. of ITERATIONS REACHED LIMIT.\n",
      "\n",
      "Increase the number of iterations (max_iter) or scale the data as shown in:\n",
      "    https://scikit-learn.org/stable/modules/preprocessing.html\n",
      "Please also refer to the documentation for alternative solver options:\n",
      "    https://scikit-learn.org/stable/modules/linear_model.html#logistic-regression\n",
      "  extra_warning_msg=_LOGISTIC_SOLVER_CONVERGENCE_MSG)\n"
     ]
    }
   ],
   "source": [
    "from sklearn import linear_model\n",
    "clf = linear_model.LogisticRegression(C=1e5)\n",
    "clf.fit(X_train_dtm, y_train)\n",
    "logistic_test = clf.score(X_test_dtm, y_test)\n",
    "logistic_train = clf.score(X_train_dtm, y_train)\n",
    "\n",
    "# metrics.accuracy_score(y_test, y_pred_class)\n",
    "print(logistic_train)\n",
    "print(logistic_test)"
   ]
  },
  {
   "cell_type": "markdown",
   "metadata": {},
   "source": [
    "# Comparing\n"
   ]
  },
  {
   "cell_type": "code",
   "execution_count": 77,
   "metadata": {},
   "outputs": [
    {
     "data": {
      "image/png": "[encoded data removed]",
      "text/plain": [
       "<Figure size 432x288 with 1 Axes>"
      ]
     },
     "metadata": {
      "needs_background": "light"
     },
     "output_type": "display_data"
    }
   ],
   "source": [
    "barWidth = 0.25\n",
    " \n",
    "bars1 = [score_train1,train_naive,logistic_train]\n",
    "bars2 = [score_test1,test_naive,logistic_test]\n",
    "\n",
    "r1 = np.arange(len(bars1))\n",
    "r2 = [x + barWidth for x in r1]\n",
    " \n",
    "plt.bar(r1, bars1, color='#7f6d5f', width=barWidth, edgecolor='white', label='Training score')\n",
    "plt.bar(r2, bars2, color='#557f2d', width=barWidth, edgecolor='white', label='Testing score')\n",
    " \n",
    "plt.xticks([r + barWidth for r in range(len(bars1))], ['SVM', 'Naive Bayes', 'Logistic Regression'])\n",
    " \n",
    "plt.legend(loc = 'lower right')\n",
    "\n",
    "rects=[score_train1,score_test1,train_naive,test_naive,logistic_train,logistic_test]\n",
    "labels = [round(x,3) for x in rects]\n",
    "\n",
    "width=[0,0.25,1,1.25,2,2.25]\n",
    "i=0\n",
    "for rect, label in zip(rects, labels):\n",
    "    height = rect\n",
    "    plt.text(width[i], height + 0.0001, label,\n",
    "            ha='center', va='bottom')\n",
    "    i+=1\n"
   ]
  },
  {
   "cell_type": "code",
   "execution_count": null,
   "metadata": {},
   "outputs": [],
   "source": []
  },
  {
   "cell_type": "code",
   "execution_count": 78,
   "metadata": {},
   "outputs": [],
   "source": [
    "# with open('hunger_games.txt', encoding='utf-8', newline='') as f:\n",
    "#     contents = f.read().replace('\\n','')\n",
    "\n",
    "# with open('hunger_games_splited.txt',  encoding='utf-8',mode='w') as f:\n",
    "#     f.write(contents.replace('. ', '.\\n'))\n",
    "    \n",
    "# with open('harry_potter.txt', encoding='utf-8', newline='') as f:\n",
    "#     contents = f.read().replace('\\n','')\n",
    "\n",
    "# with open('harry_potter_splited.txt',  encoding='utf-8',mode='w') as f:\n",
    "#     f.write(contents.replace('. ', '.\\n'))\n",
    "\n",
    "# file1=open('hunger_games_splited.txt',  encoding='utf-8', newline='')\n",
    "# file2=open('harry_potter_splited.txt',  encoding='utf-8', newline='')\n",
    "# with open('all_filw.txt',  encoding='utf-8',mode='w') as f:\n",
    "#     for line in file1:\n",
    "#         if not line.strip():continue\n",
    "#         f.write(line)\n",
    "#     for line in file2:\n",
    "#         if not line.strip():continue\n",
    "#         f.write(line)\n",
    "# file=open('all_filw.txt',  encoding='utf-8',newline='')\n",
    "# with open('all_films.csv',  encoding='utf-8',mode='w') as f:\n",
    "    \n",
    "#     for line in file:\n",
    "#         if not line.strip():continue\n",
    "#         f.write(line)\n",
    "# file.close()\n",
    "\n",
    "\n",
    "# data1 = pd.read_csv(\"hunger_games.csv\") \n",
    "# data2 = pd.read_csv(\"harry_potter.csv\") \n",
    "\n",
    "# frames=[data1,data2]\n",
    "# result_file=pd.concat(frames)\n",
    "\n",
    "# from sklearn.utils import shuffle\n",
    "# df = shuffle(result_file)"
   ]
  }
 ],
 "metadata": {
  "kernelspec": {
   "display_name": "Python 3",
   "language": "python",
   "name": "python3"
  },
  "language_info": {
   "codemirror_mode": {
    "name": "ipython",
    "version": 3
   },
   "file_extension": ".py",
   "mimetype": "text/x-python",
   "name": "python",
   "nbconvert_exporter": "python",
   "pygments_lexer": "ipython3",
   "version": "3.6.5"
  }
 },
 "nbformat": 4,
 "nbformat_minor": 4
}
