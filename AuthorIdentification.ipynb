{
 "cells": [
  {
   "cell_type": "code",
   "execution_count": 1,
   "metadata": {},
   "outputs": [],
   "source": [
    "import pandas as pd\n",
    "import string\n",
    "from nltk.corpus import stopwords\n",
    "from nltk.stem import WordNetLemmatizer\n",
    "from sklearn.preprocessing import LabelEncoder\n",
    "from PIL import Image\n",
    "from wordcloud import WordCloud\n",
    "import matplotlib.pyplot as plt\n",
    "from sklearn.model_selection import train_test_split\n",
    "from sklearn.naive_bayes import MultinomialNB \n",
    "from sklearn.metrics import classification_report\n",
    "from sklearn.metrics import confusion_matrix\n",
    "import numpy as np\n",
    "from sklearn.feature_extraction.text import TfidfVectorizer\n",
    "import itertools\n",
    "from sklearn import svm\n",
    "from matplotlib.colors import ListedColormap\n",
    "\n",
    "from IPython.core.display import display, HTML\n",
    "lemmatiser = WordNetLemmatizer()"
   ]
  },
  {
   "cell_type": "code",
   "execution_count": 82,
   "metadata": {},
   "outputs": [],
   "source": [
    "data_table=pd.read_csv('author_text.csv')\n",
    "from sklearn.utils import shuffle\n",
    "data_table = shuffle(data_table)\n",
    "\n",
    "def text_process(tex):\n",
    "    # 1. Removal of Punctuation Marks \n",
    "    nopunct=[char for char in tex if char not in string.punctuation] #!\"#$%&\\'()*+,-./:;<=>?@[\\\\]^_`{|}~\n",
    "    nopunct=''.join(nopunct)\n",
    "    # 2. Lemmatisation \n",
    "    a=''\n",
    "    i=0\n",
    "    for i in range(len(nopunct.split())):\n",
    "        b=lemmatiser.lemmatize(nopunct.split()[i], pos=\"v\")\n",
    "        a+=b+' '\n",
    "    # 3. Removal of Stopwords\n",
    "    return a\n",
    "#     return [word for word in a.split() if word.lower() not \n",
    "#             in stopwords.words('english')]\n",
    "\n",
    "y = data_table['Author']\n",
    "labelencoder = LabelEncoder()\n",
    "y = labelencoder.fit_transform(y) #[1, 0, 1, ..., 0, 1, 1] each text - numbber 0,1 - depending on author"
   ]
  },
  {
   "cell_type": "code",
   "execution_count": 83,
   "metadata": {},
   "outputs": [
    {
     "data": {
      "text/plain": [
       "array([1, 0, 0, ..., 0, 1, 0])"
      ]
     },
     "execution_count": 83,
     "metadata": {},
     "output_type": "execute_result"
    }
   ],
   "source": [
    "y"
   ]
  },
  {
   "cell_type": "code",
   "execution_count": 84,
   "metadata": {},
   "outputs": [
    {
     "data": {
      "text/html": [
       "<div>\n",
       "<style scoped>\n",
       "    .dataframe tbody tr th:only-of-type {\n",
       "        vertical-align: middle;\n",
       "    }\n",
       "\n",
       "    .dataframe tbody tr th {\n",
       "        vertical-align: top;\n",
       "    }\n",
       "\n",
       "    .dataframe thead th {\n",
       "        text-align: right;\n",
       "    }\n",
       "</style>\n",
       "<table border=\"1\" class=\"dataframe\">\n",
       "  <thead>\n",
       "    <tr style=\"text-align: right;\">\n",
       "      <th></th>\n",
       "      <th>Unnamed: 0</th>\n",
       "      <th>Text</th>\n",
       "      <th>Author</th>\n",
       "    </tr>\n",
       "  </thead>\n",
       "  <tbody>\n",
       "    <tr>\n",
       "      <th>7130</th>\n",
       "      <td>3606</td>\n",
       "      <td>“I’d have thought, in District Eleven, you’d h...</td>\n",
       "      <td>SC</td>\n",
       "    </tr>\n",
       "    <tr>\n",
       "      <th>1781</th>\n",
       "      <td>3174</td>\n",
       "      <td>“Not if you don’t give us away, Peeves, please.”</td>\n",
       "      <td>JR</td>\n",
       "    </tr>\n",
       "    <tr>\n",
       "      <th>6874</th>\n",
       "      <td>4032</td>\n",
       "      <td>“Merry Christmas!”</td>\n",
       "      <td>JR</td>\n",
       "    </tr>\n",
       "    <tr>\n",
       "      <th>4727</th>\n",
       "      <td>1983</td>\n",
       "      <td>someone you wished you knew. But it took sever...</td>\n",
       "      <td>SC</td>\n",
       "    </tr>\n",
       "    <tr>\n",
       "      <th>9808</th>\n",
       "      <td>3490</td>\n",
       "      <td>A foul, rotten taste pervades my mouth, and th...</td>\n",
       "      <td>SC</td>\n",
       "    </tr>\n",
       "    <tr>\n",
       "      <th>11358</th>\n",
       "      <td>6032</td>\n",
       "      <td>drinking Elixir of Life. My brain surprises ev...</td>\n",
       "      <td>JR</td>\n",
       "    </tr>\n",
       "    <tr>\n",
       "      <th>297</th>\n",
       "      <td>405</td>\n",
       "      <td>and starts for the front of the stage. “More t...</td>\n",
       "      <td>SC</td>\n",
       "    </tr>\n",
       "    <tr>\n",
       "      <th>7529</th>\n",
       "      <td>3936</td>\n",
       "      <td>down a row of books and started pulling them o...</td>\n",
       "      <td>JR</td>\n",
       "    </tr>\n",
       "    <tr>\n",
       "      <th>3417</th>\n",
       "      <td>1943</td>\n",
       "      <td>down under the covers. The stress of the day, ...</td>\n",
       "      <td>SC</td>\n",
       "    </tr>\n",
       "    <tr>\n",
       "      <th>7568</th>\n",
       "      <td>1011</td>\n",
       "      <td>“But —” I begin.</td>\n",
       "      <td>SC</td>\n",
       "    </tr>\n",
       "    <tr>\n",
       "      <th>7793</th>\n",
       "      <td>2332</td>\n",
       "      <td>Peeta sighs. “Well, there is this one girl. I’...</td>\n",
       "      <td>SC</td>\n",
       "    </tr>\n",
       "    <tr>\n",
       "      <th>6929</th>\n",
       "      <td>3792</td>\n",
       "      <td>“What are you doing?” moaned Ron, gray faced.</td>\n",
       "      <td>JR</td>\n",
       "    </tr>\n",
       "    <tr>\n",
       "      <th>296</th>\n",
       "      <td>4491</td>\n",
       "      <td>been brooding about that mirror… been keeping ...</td>\n",
       "      <td>JR</td>\n",
       "    </tr>\n",
       "    <tr>\n",
       "      <th>7082</th>\n",
       "      <td>1735</td>\n",
       "      <td>6. THE JOURNEY FROM PLATFORM NINE AND THREE QU...</td>\n",
       "      <td>JR</td>\n",
       "    </tr>\n",
       "    <tr>\n",
       "      <th>4941</th>\n",
       "      <td>4582</td>\n",
       "      <td>“Maybe I’ll put some of the burn ointment on i...</td>\n",
       "      <td>SC</td>\n",
       "    </tr>\n",
       "    <tr>\n",
       "      <th>8048</th>\n",
       "      <td>928</td>\n",
       "      <td>Harry looked up at the giant. He meant to say ...</td>\n",
       "      <td>JR</td>\n",
       "    </tr>\n",
       "    <tr>\n",
       "      <th>9746</th>\n",
       "      <td>5896</td>\n",
       "      <td>doesn’t object.</td>\n",
       "      <td>SC</td>\n",
       "    </tr>\n",
       "    <tr>\n",
       "      <th>1788</th>\n",
       "      <td>4477</td>\n",
       "      <td>Peeta smiles. “Yes, frosting. The final defens...</td>\n",
       "      <td>SC</td>\n",
       "    </tr>\n",
       "    <tr>\n",
       "      <th>6582</th>\n",
       "      <td>3235</td>\n",
       "      <td>This takes them aback, but I know the crowd wi...</td>\n",
       "      <td>SC</td>\n",
       "    </tr>\n",
       "    <tr>\n",
       "      <th>5978</th>\n",
       "      <td>3091</td>\n",
       "      <td>myself about a spoonful of water to rinse my m...</td>\n",
       "      <td>SC</td>\n",
       "    </tr>\n",
       "  </tbody>\n",
       "</table>\n",
       "</div>"
      ],
      "text/plain": [
       "       Unnamed: 0                                               Text Author\n",
       "7130         3606  “I’d have thought, in District Eleven, you’d h...     SC\n",
       "1781         3174   “Not if you don’t give us away, Peeves, please.”     JR\n",
       "6874         4032                                 “Merry Christmas!”     JR\n",
       "4727         1983  someone you wished you knew. But it took sever...     SC\n",
       "9808         3490  A foul, rotten taste pervades my mouth, and th...     SC\n",
       "11358        6032  drinking Elixir of Life. My brain surprises ev...     JR\n",
       "297           405  and starts for the front of the stage. “More t...     SC\n",
       "7529         3936  down a row of books and started pulling them o...     JR\n",
       "3417         1943  down under the covers. The stress of the day, ...     SC\n",
       "7568         1011                                   “But —” I begin.     SC\n",
       "7793         2332  Peeta sighs. “Well, there is this one girl. I’...     SC\n",
       "6929         3792      “What are you doing?” moaned Ron, gray faced.     JR\n",
       "296          4491  been brooding about that mirror… been keeping ...     JR\n",
       "7082         1735  6. THE JOURNEY FROM PLATFORM NINE AND THREE QU...     JR\n",
       "4941         4582  “Maybe I’ll put some of the burn ointment on i...     SC\n",
       "8048          928  Harry looked up at the giant. He meant to say ...     JR\n",
       "9746         5896                                    doesn’t object.     SC\n",
       "1788         4477  Peeta smiles. “Yes, frosting. The final defens...     SC\n",
       "6582         3235  This takes them aback, but I know the crowd wi...     SC\n",
       "5978         3091  myself about a spoonful of water to rinse my m...     SC"
      ]
     },
     "execution_count": 84,
     "metadata": {},
     "output_type": "execute_result"
    }
   ],
   "source": [
    "data_table[:20]"
   ]
  },
  {
   "cell_type": "code",
   "execution_count": 85,
   "metadata": {},
   "outputs": [
    {
     "name": "stdout",
     "output_type": "stream",
     "text": [
      "For a moment, everything seems frozen in time. Then the apples spill to the ground and I’m\n",
      "SC\n"
     ]
    },
    {
     "data": {
      "image/png": "[encoded data removed]",
      "text/plain": [
       "<Figure size 432x288 with 1 Axes>"
      ]
     },
     "metadata": {
      "needs_background": "light"
     },
     "output_type": "display_data"
    },
    {
     "name": "stdout",
     "output_type": "stream",
     "text": [
      "his eyes fixed on the door. Any second now, Professor McGonagall would come back and lead\n",
      "JR\n"
     ]
    },
    {
     "data": {
      "image/png": "[encoded data removed]",
      "text/plain": [
       "<Figure size 432x288 with 1 Axes>"
      ]
     },
     "metadata": {
      "needs_background": "light"
     },
     "output_type": "display_data"
    }
   ],
   "source": [
    "X = data_table['Text'] #всі частинки тексту\n",
    "\n",
    "wordcloud2 = WordCloud().generate(X[1]) # for JR\n",
    "wordcloud1 = WordCloud().generate(X[2]) # for SC\n",
    "\n",
    "print(X[2])\n",
    "print(data_table['Author'][2]) #author name\n",
    "plt.imshow(wordcloud1, interpolation='bilinear') #показати картинкою\n",
    "plt.show()\n",
    "\n",
    "print(X[1])\n",
    "print(data_table['Author'][1])\n",
    "plt.imshow(wordcloud2, interpolation='bilinear')\n",
    "plt.show()"
   ]
  },
  {
   "cell_type": "code",
   "execution_count": 86,
   "metadata": {},
   "outputs": [
    {
     "data": {
      "text/html": [
       "<div>\n",
       "<style scoped>\n",
       "    .dataframe tbody tr th:only-of-type {\n",
       "        vertical-align: middle;\n",
       "    }\n",
       "\n",
       "    .dataframe tbody tr th {\n",
       "        vertical-align: top;\n",
       "    }\n",
       "\n",
       "    .dataframe thead th {\n",
       "        text-align: right;\n",
       "    }\n",
       "</style>\n",
       "<table border=\"1\" class=\"dataframe\">\n",
       "  <thead>\n",
       "    <tr style=\"text-align: right;\">\n",
       "      <th></th>\n",
       "      <th>Text</th>\n",
       "    </tr>\n",
       "  </thead>\n",
       "  <tbody>\n",
       "    <tr>\n",
       "      <th>7130</th>\n",
       "      <td>“I’d have thought, in District Eleven, you’d h...</td>\n",
       "    </tr>\n",
       "    <tr>\n",
       "      <th>1781</th>\n",
       "      <td>“Not if you don’t give us away, Peeves, please.”</td>\n",
       "    </tr>\n",
       "    <tr>\n",
       "      <th>6874</th>\n",
       "      <td>“Merry Christmas!”</td>\n",
       "    </tr>\n",
       "    <tr>\n",
       "      <th>4727</th>\n",
       "      <td>someone you wished you knew. But it took sever...</td>\n",
       "    </tr>\n",
       "    <tr>\n",
       "      <th>9808</th>\n",
       "      <td>A foul, rotten taste pervades my mouth, and th...</td>\n",
       "    </tr>\n",
       "    <tr>\n",
       "      <th>...</th>\n",
       "      <td>...</td>\n",
       "    </tr>\n",
       "    <tr>\n",
       "      <th>7176</th>\n",
       "      <td>contracting with anxiety and guilt at the sigh...</td>\n",
       "    </tr>\n",
       "    <tr>\n",
       "      <th>3027</th>\n",
       "      <td>asleep.</td>\n",
       "    </tr>\n",
       "    <tr>\n",
       "      <th>7265</th>\n",
       "      <td>Harry was going to ask Ron if he’d had any of ...</td>\n",
       "    </tr>\n",
       "    <tr>\n",
       "      <th>4178</th>\n",
       "      <td>like the one Gale and I heard when the redhead...</td>\n",
       "    </tr>\n",
       "    <tr>\n",
       "      <th>6973</th>\n",
       "      <td>They watched the birds soaring overhead, glitt...</td>\n",
       "    </tr>\n",
       "  </tbody>\n",
       "</table>\n",
       "<p>12926 rows × 1 columns</p>\n",
       "</div>"
      ],
      "text/plain": [
       "                                                   Text\n",
       "7130  “I’d have thought, in District Eleven, you’d h...\n",
       "1781   “Not if you don’t give us away, Peeves, please.”\n",
       "6874                                 “Merry Christmas!”\n",
       "4727  someone you wished you knew. But it took sever...\n",
       "9808  A foul, rotten taste pervades my mouth, and th...\n",
       "...                                                 ...\n",
       "7176  contracting with anxiety and guilt at the sigh...\n",
       "3027                                            asleep.\n",
       "7265  Harry was going to ask Ron if he’d had any of ...\n",
       "4178  like the one Gale and I heard when the redhead...\n",
       "6973  They watched the birds soaring overhead, glitt...\n",
       "\n",
       "[12926 rows x 1 columns]"
      ]
     },
     "execution_count": 86,
     "metadata": {},
     "output_type": "execute_result"
    }
   ],
   "source": [
    "X.to_frame()"
   ]
  },
  {
   "cell_type": "code",
   "execution_count": 87,
   "metadata": {},
   "outputs": [],
   "source": [
    "X= X.apply(text_process)"
   ]
  },
  {
   "cell_type": "code",
   "execution_count": 88,
   "metadata": {},
   "outputs": [
    {
     "data": {
      "text/html": [
       "<div>\n",
       "<style scoped>\n",
       "    .dataframe tbody tr th:only-of-type {\n",
       "        vertical-align: middle;\n",
       "    }\n",
       "\n",
       "    .dataframe tbody tr th {\n",
       "        vertical-align: top;\n",
       "    }\n",
       "\n",
       "    .dataframe thead th {\n",
       "        text-align: right;\n",
       "    }\n",
       "</style>\n",
       "<table border=\"1\" class=\"dataframe\">\n",
       "  <thead>\n",
       "    <tr style=\"text-align: right;\">\n",
       "      <th></th>\n",
       "      <th>Text</th>\n",
       "    </tr>\n",
       "  </thead>\n",
       "  <tbody>\n",
       "    <tr>\n",
       "      <th>7130</th>\n",
       "      <td>“I’d have think in District Eleven you’d have ...</td>\n",
       "    </tr>\n",
       "    <tr>\n",
       "      <th>1781</th>\n",
       "      <td>“Not if you don’t give us away Peeves please”</td>\n",
       "    </tr>\n",
       "    <tr>\n",
       "      <th>6874</th>\n",
       "      <td>“Merry Christmas”</td>\n",
       "    </tr>\n",
       "    <tr>\n",
       "      <th>4727</th>\n",
       "      <td>someone you wish you know But it take several ...</td>\n",
       "    </tr>\n",
       "    <tr>\n",
       "      <th>9808</th>\n",
       "      <td>A foul rotten taste pervade my mouth and the w...</td>\n",
       "    </tr>\n",
       "    <tr>\n",
       "      <th>...</th>\n",
       "      <td>...</td>\n",
       "    </tr>\n",
       "    <tr>\n",
       "      <th>7176</th>\n",
       "      <td>contract with anxiety and guilt at the sight o...</td>\n",
       "    </tr>\n",
       "    <tr>\n",
       "      <th>3027</th>\n",
       "      <td>asleep</td>\n",
       "    </tr>\n",
       "    <tr>\n",
       "      <th>7265</th>\n",
       "      <td>Harry be go to ask Ron if he’d have any of the...</td>\n",
       "    </tr>\n",
       "    <tr>\n",
       "      <th>4178</th>\n",
       "      <td>like the one Gale and I hear when the redheade...</td>\n",
       "    </tr>\n",
       "    <tr>\n",
       "      <th>6973</th>\n",
       "      <td>They watch the bird soar overhead glittering— ...</td>\n",
       "    </tr>\n",
       "  </tbody>\n",
       "</table>\n",
       "<p>12926 rows × 1 columns</p>\n",
       "</div>"
      ],
      "text/plain": [
       "                                                   Text\n",
       "7130  “I’d have think in District Eleven you’d have ...\n",
       "1781     “Not if you don’t give us away Peeves please” \n",
       "6874                                 “Merry Christmas” \n",
       "4727  someone you wish you know But it take several ...\n",
       "9808  A foul rotten taste pervade my mouth and the w...\n",
       "...                                                 ...\n",
       "7176  contract with anxiety and guilt at the sight o...\n",
       "3027                                            asleep \n",
       "7265  Harry be go to ask Ron if he’d have any of the...\n",
       "4178  like the one Gale and I hear when the redheade...\n",
       "6973  They watch the bird soar overhead glittering— ...\n",
       "\n",
       "[12926 rows x 1 columns]"
      ]
     },
     "execution_count": 88,
     "metadata": {},
     "output_type": "execute_result"
    }
   ],
   "source": [
    "X.to_frame()"
   ]
  },
  {
   "cell_type": "code",
   "execution_count": 89,
   "metadata": {},
   "outputs": [],
   "source": [
    "X_train, X_test, y_train, y_test = train_test_split(X, y\n",
    "                                  ,test_size=0.2, random_state=1234) #(80%->Training and 20%->Validation)\n",
    "\n",
    "vectorizer = TfidfVectorizer(min_df=5,\n",
    "                                 max_df = 0.8,\n",
    "                                 sublinear_tf=True,\n",
    "                                 use_idf=True)\n",
    "\n",
    "train_vectors = vectorizer.fit_transform(X_train)\n",
    "test_vectors = vectorizer.transform(X_test)\n",
    "\n"
   ]
  },
  {
   "cell_type": "code",
   "execution_count": 90,
   "metadata": {},
   "outputs": [
    {
     "name": "stdout",
     "output_type": "stream",
     "text": [
      "0.9940038684719535\n",
      "0.9013921113689095\n"
     ]
    }
   ],
   "source": [
    "#svm classification\n",
    "classifier_rbf = svm.SVC(C=10)\n",
    "classifier_rbf.fit(train_vectors, y_train)\n",
    "\n",
    "print(classifier_rbf.score(train_vectors, y_train)) #середня точність даних training\n",
    "print(classifier_rbf.score(test_vectors, y_test))#середня точність даних testing"
   ]
  },
  {
   "cell_type": "code",
   "execution_count": 91,
   "metadata": {},
   "outputs": [
    {
     "name": "stdout",
     "output_type": "stream",
     "text": [
      "Predicted value:  [1]\n"
     ]
    }
   ],
   "source": [
    "#0\n",
    "#a=\"report home to the Dursleys saying that he’d somehow turned his teacher’s wig blue. He kept\"\n",
    "#0\n",
    "# a=\"Samantha sometimes found Miles absurd and, increasingly, dull. Every now and then, though, she enjoyed his pomposity in precisely the same spirit as she liked\"\n",
    "#1\n",
    "a=\"Deep in the meadow, hidden far away A cloak of leaves, a moonbeam ray Forget your woes and let your troubles lay And when it's morning again, they'll wash away Here it's safe, here it's warm Here the daisies guard you from every harm Here your dreams are sweet and tomorrow brings them true Here is the place where I love you.\"\n",
    "b=np.array([a])\n",
    "X_testSentence=pd.Series(b)\n",
    "\n",
    "testSentance=vectorizer.transform(X_testSentence)\n",
    "#JR - 0, SC - 1\n",
    "print('Predicted value: ', classifier_rbf.predict(testSentance)) #should be 1"
   ]
  },
  {
   "cell_type": "code",
   "execution_count": 92,
   "metadata": {},
   "outputs": [
    {
     "name": "stdout",
     "output_type": "stream",
     "text": [
      "              precision    recall  f1-score   support\n",
      "\n",
      "           0       0.90      0.88      0.89      1207\n",
      "           1       0.90      0.92      0.91      1379\n",
      "\n",
      "    accuracy                           0.90      2586\n",
      "   macro avg       0.90      0.90      0.90      2586\n",
      "weighted avg       0.90      0.90      0.90      2586\n",
      "\n"
     ]
    }
   ],
   "source": [
    "predictions = classifier_rbf.predict(test_vectors)\n",
    "# getting the Precision, Recall, F1-Score = 2 * (precision * recall) / (precision + recall)\n",
    "print(classification_report(y_test,predictions))"
   ]
  },
  {
   "cell_type": "code",
   "execution_count": 93,
   "metadata": {},
   "outputs": [
    {
     "name": "stdout",
     "output_type": "stream",
     "text": [
      "Normalized confusion matrix\n",
      "[[0.88318144 0.11681856]\n",
      " [0.0826686  0.9173314 ]]\n"
     ]
    },
    {
     "data": {
      "image/png": "[encoded data removed]",
      "text/plain": [
       "<Figure size 432x288 with 2 Axes>"
      ]
     },
     "metadata": {
      "needs_background": "light"
     },
     "output_type": "display_data"
    }
   ],
   "source": [
    "def plot_confusion_matrix(cm, classes, normalize=False, title='Confusion matrix', cmap=plt.cm.Blues):\n",
    "    if normalize:\n",
    "        cm = cm.astype('float') / cm.sum(axis=1)[:, np.newaxis]\n",
    "        print(\"Normalized confusion matrix\")\n",
    "    else:\n",
    "        print('Confusion matrix, without normalization')\n",
    "    print(cm)\n",
    "    plt.imshow(cm, interpolation='nearest', cmap=cmap)\n",
    "    plt.title(title)\n",
    "    plt.colorbar()\n",
    "    tick_marks = np.arange(len(classes))\n",
    "    plt.xticks(tick_marks, classes, rotation=45)\n",
    "    plt.yticks(tick_marks, classes)\n",
    "    fmt = '.2f' if normalize else 'd'\n",
    "    thresh = cm.max() / 2.\n",
    "    for i, j in itertools.product(range(cm.shape[0])\n",
    "                                  , range(cm.shape[1])):\n",
    "        plt.text(j, i, format(cm[i, j], fmt),\n",
    "                 horizontalalignment=\"center\",\n",
    "                 color=\"white\" if cm[i, j] > thresh else \"black\")\n",
    "    plt.tight_layout()\n",
    "    plt.ylabel('True label')\n",
    "    plt.xlabel('Predicted label')\n",
    "    \n",
    "cm = confusion_matrix(y_test, predictions)\n",
    "plt.figure()\n",
    "plot_confusion_matrix(cm, classes=[0,1,2], normalize=True,\n",
    "                      title='Confusion Matrix')\n"
   ]
  },
  {
   "cell_type": "code",
   "execution_count": null,
   "metadata": {},
   "outputs": [],
   "source": []
  },
  {
   "cell_type": "code",
   "execution_count": 78,
   "metadata": {},
   "outputs": [],
   "source": [
    "# with open('hunger_games.txt', encoding='utf-8', newline='') as f:\n",
    "#     contents = f.read().replace('\\n','')\n",
    "\n",
    "# with open('hunger_games_splited.txt',  encoding='utf-8',mode='w') as f:\n",
    "#     f.write(contents.replace('. ', '.\\n'))\n",
    "    \n",
    "# with open('harry_potter.txt', encoding='utf-8', newline='') as f:\n",
    "#     contents = f.read().replace('\\n','')\n",
    "\n",
    "# with open('harry_potter_splited.txt',  encoding='utf-8',mode='w') as f:\n",
    "#     f.write(contents.replace('. ', '.\\n'))\n",
    "\n",
    "# file1=open('hunger_games_splited.txt',  encoding='utf-8', newline='')\n",
    "# file2=open('harry_potter_splited.txt',  encoding='utf-8', newline='')\n",
    "# with open('all_filw.txt',  encoding='utf-8',mode='w') as f:\n",
    "#     for line in file1:\n",
    "#         if not line.strip():continue\n",
    "#         f.write(line)\n",
    "#     for line in file2:\n",
    "#         if not line.strip():continue\n",
    "#         f.write(line)\n",
    "# file=open('all_filw.txt',  encoding='utf-8',newline='')\n",
    "# with open('all_films.csv',  encoding='utf-8',mode='w') as f:\n",
    "    \n",
    "#     for line in file:\n",
    "#         if not line.strip():continue\n",
    "#         f.write(line)\n",
    "# file.close()\n",
    "\n",
    "\n",
    "# data1 = pd.read_csv(\"hunger_games.csv\") \n",
    "# data2 = pd.read_csv(\"harry_potter.csv\") \n",
    "\n",
    "# frames=[data1,data2]\n",
    "# result_file=pd.concat(frames)\n",
    "\n",
    "# from sklearn.utils import shuffle\n",
    "# df = shuffle(result_file)"
   ]
  }
 ],
 "metadata": {
  "kernelspec": {
   "display_name": "Python 3",
   "language": "python",
   "name": "python3"
  },
  "language_info": {
   "codemirror_mode": {
    "name": "ipython",
    "version": 3
   },
   "file_extension": ".py",
   "mimetype": "text/x-python",
   "name": "python",
   "nbconvert_exporter": "python",
   "pygments_lexer": "ipython3",
   "version": "3.6.5"
  }
 },
 "nbformat": 4,
 "nbformat_minor": 4
}
